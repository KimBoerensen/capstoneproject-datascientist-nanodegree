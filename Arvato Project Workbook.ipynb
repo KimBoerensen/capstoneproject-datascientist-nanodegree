{
 "cells": [
  {
   "cell_type": "markdown",
   "metadata": {},
   "source": [
    "# Capstone Project: Create a Customer Segmentation Report for Arvato Financial Services\n",
    "\n",
    "In this project, you will analyze demographics data for customers of a mail-order sales company in Germany, comparing it against demographics information for the general population. You'll use unsupervised learning techniques to perform customer segmentation, identifying the parts of the population that best describe the core customer base of the company. Then, you'll apply what you've learned on a third dataset with demographics information for targets of a marketing campaign for the company, and use a model to predict which individuals are most likely to convert into becoming customers for the company. The data that you will use has been provided by our partners at Bertelsmann Arvato Analytics, and represents a real-life data science task.\n",
    "\n",
    "If you completed the first term of this program, you will be familiar with the first part of this project, from the unsupervised learning project. The versions of those two datasets used in this project will include many more features and has not been pre-cleaned. You are also free to choose whatever approach you'd like to analyzing the data rather than follow pre-determined steps. In your work on this project, make sure that you carefully document your steps and decisions, since your main deliverable for this project will be a blog post reporting your findings."
   ]
  },
  {
   "cell_type": "code",
   "execution_count": 38,
   "metadata": {},
   "outputs": [],
   "source": [
    "# import libraries here; add more as necessary\n",
    "import numpy as np\n",
    "import pandas as pd\n",
    "import matplotlib.pyplot as plt\n",
    "import seaborn as sns\n",
    "\n",
    "from sklearn.preprocessing import Imputer, Normalizer, StandardScaler, RobustScaler, MinMaxScaler, OneHotEncoder\n",
    "from sklearn.decomposition import PCA\n",
    "\n",
    "from sklearn.cluster import KMeans\n",
    "from sklearn.linear_model import LogisticRegression\n",
    "from sklearn.tree import DecisionTreeClassifier\n",
    "from sklearn.ensemble import RandomForestClassifier\n",
    "from sklearn.ensemble import GradientBoostingRegressor, AdaBoostRegressor\n",
    "from sklearn.ensemble import AdaBoostClassifier, GradientBoostingClassifier\n",
    "\n",
    "from sklearn.model_selection import GridSearchCV\n",
    "\n",
    "from sklearn.metrics import accuracy_score, roc_auc_score, confusion_matrix\n",
    "from sklearn.model_selection import train_test_split, cross_val_score\n",
    "\n",
    "# magic word for producing visualizations in notebook\n",
    "%matplotlib inline"
   ]
  },
  {
   "cell_type": "markdown",
   "metadata": {},
   "source": [
    "## Part 0: Get to Know the Data\n",
    "\n",
    "There are four data files associated with this project:\n",
    "\n",
    "- `Udacity_AZDIAS_052018.csv`: Demographics data for the general population of Germany; 891 211 persons (rows) x 366 features (columns).\n",
    "- `Udacity_CUSTOMERS_052018.csv`: Demographics data for customers of a mail-order company; 191 652 persons (rows) x 369 features (columns).\n",
    "- `Udacity_MAILOUT_052018_TRAIN.csv`: Demographics data for individuals who were targets of a marketing campaign; 42 982 persons (rows) x 367 (columns).\n",
    "- `Udacity_MAILOUT_052018_TEST.csv`: Demographics data for individuals who were targets of a marketing campaign; 42 833 persons (rows) x 366 (columns).\n",
    "\n",
    "Each row of the demographics files represents a single person, but also includes information outside of individuals, including information about their household, building, and neighborhood. Use the information from the first two files to figure out how customers (\"CUSTOMERS\") are similar to or differ from the general population at large (\"AZDIAS\"), then use your analysis to make predictions on the other two files (\"MAILOUT\"), predicting which recipients are most likely to become a customer for the mail-order company.\n",
    "\n",
    "The \"CUSTOMERS\" file contains three extra columns ('CUSTOMER_GROUP', 'ONLINE_PURCHASE', and 'PRODUCT_GROUP'), which provide broad information about the customers depicted in the file. The original \"MAILOUT\" file included one additional column, \"RESPONSE\", which indicated whether or not each recipient became a customer of the company. For the \"TRAIN\" subset, this column has been retained, but in the \"TEST\" subset it has been removed; it is against that withheld column that your final predictions will be assessed in the Kaggle competition.\n",
    "\n",
    "Otherwise, all of the remaining columns are the same between the three data files. For more information about the columns depicted in the files, you can refer to two Excel spreadsheets provided in the workspace. [One of them](./DIAS Information Levels - Attributes 2017.xlsx) is a top-level list of attributes and descriptions, organized by informational category. [The other](./DIAS Attributes - Values 2017.xlsx) is a detailed mapping of data values for each feature in alphabetical order.\n",
    "\n",
    "In the below cell, we've provided some initial code to load in the first two datasets. Note for all of the `.csv` data files in this project that they're semicolon (`;`) delimited, so an additional argument in the [`read_csv()`](https://pandas.pydata.org/pandas-docs/stable/generated/pandas.read_csv.html) call has been included to read in the data properly. Also, considering the size of the datasets, it may take some time for them to load completely.\n",
    "\n",
    "You'll notice when the data is loaded in that a warning message will immediately pop up. Before you really start digging into the modeling and analysis, you're going to need to perform some cleaning. Take some time to browse the structure of the data and look over the informational spreadsheets to understand the data values. Make some decisions on which features to keep, which features to drop, and if any revisions need to be made on data formats. It'll be a good idea to create a function with pre-processing steps, since you'll need to clean all of the datasets before you work with them."
   ]
  },
  {
   "cell_type": "markdown",
   "metadata": {},
   "source": [
    "### 0.1 Loading and Inspecting Data"
   ]
  },
  {
   "cell_type": "code",
   "execution_count": 39,
   "metadata": {},
   "outputs": [
    {
     "name": "stderr",
     "output_type": "stream",
     "text": [
      "/opt/conda/lib/python3.6/site-packages/IPython/core/interactiveshell.py:2785: DtypeWarning: Columns (18,19) have mixed types. Specify dtype option on import or set low_memory=False.\n",
      "  interactivity=interactivity, compiler=compiler, result=result)\n"
     ]
    }
   ],
   "source": [
    "# load in population and customers data\n",
    "azdias = pd.read_csv('../../data/Term2/capstone/arvato_data/Udacity_AZDIAS_052018.csv', sep=';')\n",
    "customers = pd.read_csv('../../data/Term2/capstone/arvato_data/Udacity_CUSTOMERS_052018.csv', sep=';')"
   ]
  },
  {
   "cell_type": "code",
   "execution_count": 40,
   "metadata": {},
   "outputs": [],
   "source": [
    "# Load attribute data\n",
    "attributes_desc = pd.read_excel('./DIAS Information Levels - Attributes 2017.xlsx', header = 1)\n",
    "attributes_values = pd.read_excel('./DIAS Attributes - Values 2017.xlsx', header = 1)"
   ]
  },
  {
   "cell_type": "code",
   "execution_count": 41,
   "metadata": {},
   "outputs": [
    {
     "name": "stdout",
     "output_type": "stream",
     "text": [
      "(891221, 366)\n",
      "      LNR  AGER_TYP  AKT_DAT_KL  ALTER_HH  ALTER_KIND1  ALTER_KIND2  \\\n",
      "0  910215        -1         NaN       NaN          NaN          NaN   \n",
      "1  910220        -1         9.0       0.0          NaN          NaN   \n",
      "2  910225        -1         9.0      17.0          NaN          NaN   \n",
      "3  910226         2         1.0      13.0          NaN          NaN   \n",
      "4  910241        -1         1.0      20.0          NaN          NaN   \n",
      "\n",
      "   ALTER_KIND3  ALTER_KIND4  ALTERSKATEGORIE_FEIN  ANZ_HAUSHALTE_AKTIV  \\\n",
      "0          NaN          NaN                   NaN                  NaN   \n",
      "1          NaN          NaN                  21.0                 11.0   \n",
      "2          NaN          NaN                  17.0                 10.0   \n",
      "3          NaN          NaN                  13.0                  1.0   \n",
      "4          NaN          NaN                  14.0                  3.0   \n",
      "\n",
      "          ...           VHN  VK_DHT4A  VK_DISTANZ  VK_ZG11  W_KEIT_KIND_HH  \\\n",
      "0         ...           NaN       NaN         NaN      NaN             NaN   \n",
      "1         ...           4.0       8.0        11.0     10.0             3.0   \n",
      "2         ...           2.0       9.0         9.0      6.0             3.0   \n",
      "3         ...           0.0       7.0        10.0     11.0             NaN   \n",
      "4         ...           2.0       3.0         5.0      4.0             2.0   \n",
      "\n",
      "   WOHNDAUER_2008  WOHNLAGE ZABEOTYP ANREDE_KZ ALTERSKATEGORIE_GROB  \n",
      "0             NaN       NaN        3         1                    2  \n",
      "1             9.0       4.0        5         2                    1  \n",
      "2             9.0       2.0        5         2                    3  \n",
      "3             9.0       7.0        3         2                    4  \n",
      "4             9.0       3.0        4         1                    3  \n",
      "\n",
      "[5 rows x 366 columns]\n"
     ]
    }
   ],
   "source": [
    "# Inspect azdias data\n",
    "print(azdias.shape)\n",
    "print(azdias.head())"
   ]
  },
  {
   "cell_type": "code",
   "execution_count": 11,
   "metadata": {},
   "outputs": [
    {
     "name": "stdout",
     "output_type": "stream",
     "text": [
      "(191652, 369)\n",
      "      LNR  AGER_TYP  AKT_DAT_KL  ALTER_HH  ALTER_KIND1  ALTER_KIND2  \\\n",
      "0    9626         2         1.0      10.0          NaN          NaN   \n",
      "1    9628        -1         9.0      11.0          NaN          NaN   \n",
      "2  143872        -1         1.0       6.0          NaN          NaN   \n",
      "3  143873         1         1.0       8.0          NaN          NaN   \n",
      "4  143874        -1         1.0      20.0          NaN          NaN   \n",
      "\n",
      "   ALTER_KIND3  ALTER_KIND4  ALTERSKATEGORIE_FEIN  ANZ_HAUSHALTE_AKTIV  \\\n",
      "0          NaN          NaN                  10.0                  1.0   \n",
      "1          NaN          NaN                   NaN                  NaN   \n",
      "2          NaN          NaN                   0.0                  1.0   \n",
      "3          NaN          NaN                   8.0                  0.0   \n",
      "4          NaN          NaN                  14.0                  7.0   \n",
      "\n",
      "          ...           VK_ZG11  W_KEIT_KIND_HH  WOHNDAUER_2008  WOHNLAGE  \\\n",
      "0         ...               2.0             6.0             9.0       7.0   \n",
      "1         ...               3.0             0.0             9.0       NaN   \n",
      "2         ...              11.0             6.0             9.0       2.0   \n",
      "3         ...               2.0             NaN             9.0       7.0   \n",
      "4         ...               4.0             2.0             9.0       3.0   \n",
      "\n",
      "   ZABEOTYP      PRODUCT_GROUP  CUSTOMER_GROUP ONLINE_PURCHASE ANREDE_KZ  \\\n",
      "0         3  COSMETIC_AND_FOOD     MULTI_BUYER               0         1   \n",
      "1         3               FOOD    SINGLE_BUYER               0         1   \n",
      "2         3  COSMETIC_AND_FOOD     MULTI_BUYER               0         2   \n",
      "3         1           COSMETIC     MULTI_BUYER               0         1   \n",
      "4         1               FOOD     MULTI_BUYER               0         1   \n",
      "\n",
      "  ALTERSKATEGORIE_GROB  \n",
      "0                    4  \n",
      "1                    4  \n",
      "2                    4  \n",
      "3                    4  \n",
      "4                    3  \n",
      "\n",
      "[5 rows x 369 columns]\n"
     ]
    }
   ],
   "source": [
    "# Inspect customers data\n",
    "print(customers.shape)\n",
    "print(customers.head())"
   ]
  },
  {
   "cell_type": "markdown",
   "metadata": {},
   "source": [
    "### 0.2 Data Cleaning"
   ]
  },
  {
   "cell_type": "markdown",
   "metadata": {},
   "source": [
    "Next, I will clean the data by handling the warning, making sure both data sets use the same columns, handle unknown values, take care of missing values and lastly by scaling the features. "
   ]
  },
  {
   "cell_type": "markdown",
   "metadata": {},
   "source": [
    "#### 0.2.1 Handling the Warning"
   ]
  },
  {
   "cell_type": "code",
   "execution_count": 12,
   "metadata": {},
   "outputs": [
    {
     "name": "stdout",
     "output_type": "stream",
     "text": [
      "Index(['CAMEO_DEUG_2015', 'CAMEO_INTL_2015'], dtype='object')\n",
      "Index(['CAMEO_DEUG_2015', 'CAMEO_INTL_2015'], dtype='object')\n"
     ]
    }
   ],
   "source": [
    "# When loading the data we noticed that there are two columns with missing values\n",
    "# Identify columns with mixed data type (18 + 19)\n",
    "print(azdias.iloc[:,18:20].columns)\n",
    "print(customers.iloc[:,18:20].columns)"
   ]
  },
  {
   "cell_type": "code",
   "execution_count": 13,
   "metadata": {},
   "outputs": [
    {
     "name": "stdout",
     "output_type": "stream",
     "text": [
      "[nan 51.0 24.0 12.0 43.0 54.0 22.0 14.0 13.0 15.0 33.0 41.0 34.0 55.0 25.0\n",
      " 23.0 31.0 52.0 35.0 45.0 44.0 32.0 '22' '24' '41' '12' '54' '51' '44' '35'\n",
      " '23' '25' '14' '34' '52' '55' '31' '32' '15' '13' '43' '33' '45' 'XX']\n",
      "[13.0 nan 34.0 24.0 41.0 23.0 15.0 55.0 14.0 22.0 43.0 51.0 33.0 25.0 44.0\n",
      " 54.0 32.0 12.0 35.0 31.0 45.0 52.0 '45' '25' '55' '51' '14' '54' '43' '22'\n",
      " '15' '24' '35' '23' '12' '44' '41' '52' '31' '13' '34' '32' '33' 'XX']\n",
      "[nan 8.0 4.0 2.0 6.0 1.0 9.0 5.0 7.0 3.0 '4' '3' '7' '2' '8' '9' '6' '5'\n",
      " '1' 'X']\n",
      "[1.0 nan 5.0 4.0 7.0 3.0 9.0 2.0 6.0 8.0 '6' '3' '8' '9' '2' '4' '1' '7'\n",
      " '5' 'X']\n"
     ]
    }
   ],
   "source": [
    "# Find unique values per column\n",
    "print(azdias['CAMEO_INTL_2015'].unique())\n",
    "print(customers['CAMEO_INTL_2015'].unique())\n",
    "\n",
    "print(azdias['CAMEO_DEUG_2015'].unique())\n",
    "print(customers['CAMEO_DEUG_2015'].unique())"
   ]
  },
  {
   "cell_type": "markdown",
   "metadata": {},
   "source": [
    "There seem to be two issues leading to potential data type problems.\n",
    "* There are X and XX values in both columns (string)\n",
    "* There seem to be both floats and integers (e.g 3.0 vs 3)\n",
    "\n",
    "Therefore, all X / XX will be transformed to NaNs and all integers will be transformed to floats."
   ]
  },
  {
   "cell_type": "code",
   "execution_count": 14,
   "metadata": {},
   "outputs": [],
   "source": [
    "warning_columns = ['CAMEO_INTL_2015', 'CAMEO_DEUG_2015']\n",
    "azdias[warning_columns] = azdias[warning_columns].replace(['X', 'XX'], np.NaN).astype(float)\n",
    "customers[warning_columns] = customers[warning_columns].replace(['X', 'XX'], np.NaN).astype(float)"
   ]
  },
  {
   "cell_type": "markdown",
   "metadata": {},
   "source": [
    "#### 0.2.2 Common columns"
   ]
  },
  {
   "cell_type": "code",
   "execution_count": 15,
   "metadata": {},
   "outputs": [],
   "source": [
    "# Create list column names in each data set\n",
    "features_with_values = attributes_values['Attribute'].unique().tolist()\n",
    "azdias_columns = azdias.columns.tolist()\n",
    "customers_columns = azdias.columns.tolist()\n",
    "\n",
    "# Create set with commo columns\n",
    "common_columns = set(features_with_values) & set(azdias_columns) & set(customers_columns)"
   ]
  },
  {
   "cell_type": "code",
   "execution_count": 16,
   "metadata": {},
   "outputs": [],
   "source": [
    "# Only keep common columns\n",
    "azdias = azdias[azdias.columns.intersection(common_columns)]\n",
    "customers = customers[customers.columns.intersection(common_columns)]"
   ]
  },
  {
   "cell_type": "markdown",
   "metadata": {},
   "source": [
    "#### 0.2.3 Unknow values"
   ]
  },
  {
   "cell_type": "markdown",
   "metadata": {},
   "source": [
    "Many of the values translate to unknown values according to the attribute values table. The goal is to replace these unknown values with NaNs. "
   ]
  },
  {
   "cell_type": "code",
   "execution_count": 17,
   "metadata": {},
   "outputs": [
    {
     "data": {
      "text/html": [
       "<div>\n",
       "<style scoped>\n",
       "    .dataframe tbody tr th:only-of-type {\n",
       "        vertical-align: middle;\n",
       "    }\n",
       "\n",
       "    .dataframe tbody tr th {\n",
       "        vertical-align: top;\n",
       "    }\n",
       "\n",
       "    .dataframe thead th {\n",
       "        text-align: right;\n",
       "    }\n",
       "</style>\n",
       "<table border=\"1\" class=\"dataframe\">\n",
       "  <thead>\n",
       "    <tr style=\"text-align: right;\">\n",
       "      <th></th>\n",
       "      <th>Attribute</th>\n",
       "      <th>Description</th>\n",
       "      <th>Value</th>\n",
       "      <th>Meaning</th>\n",
       "    </tr>\n",
       "  </thead>\n",
       "  <tbody>\n",
       "    <tr>\n",
       "      <th>NaN</th>\n",
       "      <td>AGER_TYP</td>\n",
       "      <td>best-ager typology</td>\n",
       "      <td>-1</td>\n",
       "      <td>unknown</td>\n",
       "    </tr>\n",
       "    <tr>\n",
       "      <th>NaN</th>\n",
       "      <td>AGER_TYP</td>\n",
       "      <td>NaN</td>\n",
       "      <td>0</td>\n",
       "      <td>no classification possible</td>\n",
       "    </tr>\n",
       "    <tr>\n",
       "      <th>NaN</th>\n",
       "      <td>AGER_TYP</td>\n",
       "      <td>NaN</td>\n",
       "      <td>1</td>\n",
       "      <td>passive elderly</td>\n",
       "    </tr>\n",
       "    <tr>\n",
       "      <th>NaN</th>\n",
       "      <td>AGER_TYP</td>\n",
       "      <td>NaN</td>\n",
       "      <td>2</td>\n",
       "      <td>cultural elderly</td>\n",
       "    </tr>\n",
       "    <tr>\n",
       "      <th>NaN</th>\n",
       "      <td>AGER_TYP</td>\n",
       "      <td>NaN</td>\n",
       "      <td>3</td>\n",
       "      <td>experience-driven elderly</td>\n",
       "    </tr>\n",
       "    <tr>\n",
       "      <th>NaN</th>\n",
       "      <td>ALTERSKATEGORIE_GROB</td>\n",
       "      <td>age classification through prename analysis</td>\n",
       "      <td>-1, 0</td>\n",
       "      <td>unknown</td>\n",
       "    </tr>\n",
       "    <tr>\n",
       "      <th>NaN</th>\n",
       "      <td>ALTERSKATEGORIE_GROB</td>\n",
       "      <td>NaN</td>\n",
       "      <td>1</td>\n",
       "      <td>&lt; 30 years</td>\n",
       "    </tr>\n",
       "    <tr>\n",
       "      <th>NaN</th>\n",
       "      <td>ALTERSKATEGORIE_GROB</td>\n",
       "      <td>NaN</td>\n",
       "      <td>2</td>\n",
       "      <td>30 - 45 years</td>\n",
       "    </tr>\n",
       "    <tr>\n",
       "      <th>NaN</th>\n",
       "      <td>ALTERSKATEGORIE_GROB</td>\n",
       "      <td>NaN</td>\n",
       "      <td>3</td>\n",
       "      <td>46 - 60 years</td>\n",
       "    </tr>\n",
       "    <tr>\n",
       "      <th>NaN</th>\n",
       "      <td>ALTERSKATEGORIE_GROB</td>\n",
       "      <td>NaN</td>\n",
       "      <td>4</td>\n",
       "      <td>&gt; 60 years</td>\n",
       "    </tr>\n",
       "  </tbody>\n",
       "</table>\n",
       "</div>"
      ],
      "text/plain": [
       "                Attribute                                   Description  \\\n",
       "NaN              AGER_TYP                            best-ager typology   \n",
       "NaN              AGER_TYP                                           NaN   \n",
       "NaN              AGER_TYP                                           NaN   \n",
       "NaN              AGER_TYP                                           NaN   \n",
       "NaN              AGER_TYP                                           NaN   \n",
       "NaN  ALTERSKATEGORIE_GROB  age classification through prename analysis    \n",
       "NaN  ALTERSKATEGORIE_GROB                                           NaN   \n",
       "NaN  ALTERSKATEGORIE_GROB                                           NaN   \n",
       "NaN  ALTERSKATEGORIE_GROB                                           NaN   \n",
       "NaN  ALTERSKATEGORIE_GROB                                           NaN   \n",
       "\n",
       "     Value                     Meaning  \n",
       "NaN     -1                     unknown  \n",
       "NaN      0  no classification possible  \n",
       "NaN      1             passive elderly  \n",
       "NaN      2            cultural elderly  \n",
       "NaN      3   experience-driven elderly  \n",
       "NaN  -1, 0                     unknown  \n",
       "NaN      1                  < 30 years  \n",
       "NaN      2               30 - 45 years  \n",
       "NaN      3               46 - 60 years  \n",
       "NaN      4                  > 60 years  "
      ]
     },
     "execution_count": 17,
     "metadata": {},
     "output_type": "execute_result"
    }
   ],
   "source": [
    "# Fill up missing attributes\n",
    "attributes_values['Attribute'] = attributes_values['Attribute'].ffill()\n",
    "attributes_values.head(10)\n",
    "\n",
    "# Create column value dictionary\n",
    "#feature_value_dict = {k: list(v) for k,v in attributes_values.groupby('Attribute')['Value']}"
   ]
  },
  {
   "cell_type": "code",
   "execution_count": 18,
   "metadata": {},
   "outputs": [
    {
     "data": {
      "text/html": [
       "<div>\n",
       "<style scoped>\n",
       "    .dataframe tbody tr th:only-of-type {\n",
       "        vertical-align: middle;\n",
       "    }\n",
       "\n",
       "    .dataframe tbody tr th {\n",
       "        vertical-align: top;\n",
       "    }\n",
       "\n",
       "    .dataframe thead th {\n",
       "        text-align: right;\n",
       "    }\n",
       "</style>\n",
       "<table border=\"1\" class=\"dataframe\">\n",
       "  <thead>\n",
       "    <tr style=\"text-align: right;\">\n",
       "      <th></th>\n",
       "      <th>Attribute</th>\n",
       "      <th>Description</th>\n",
       "      <th>Value</th>\n",
       "      <th>Meaning</th>\n",
       "    </tr>\n",
       "  </thead>\n",
       "  <tbody>\n",
       "    <tr>\n",
       "      <th>NaN</th>\n",
       "      <td>AGER_TYP</td>\n",
       "      <td>best-ager typology</td>\n",
       "      <td>-1</td>\n",
       "      <td>unknown</td>\n",
       "    </tr>\n",
       "    <tr>\n",
       "      <th>NaN</th>\n",
       "      <td>ALTERSKATEGORIE_GROB</td>\n",
       "      <td>age classification through prename analysis</td>\n",
       "      <td>-1, 0</td>\n",
       "      <td>unknown</td>\n",
       "    </tr>\n",
       "    <tr>\n",
       "      <th>NaN</th>\n",
       "      <td>ANREDE_KZ</td>\n",
       "      <td>gender</td>\n",
       "      <td>-1, 0</td>\n",
       "      <td>unknown</td>\n",
       "    </tr>\n",
       "    <tr>\n",
       "      <th>NaN</th>\n",
       "      <td>BALLRAUM</td>\n",
       "      <td>distance to next urban centre</td>\n",
       "      <td>-1</td>\n",
       "      <td>unknown</td>\n",
       "    </tr>\n",
       "    <tr>\n",
       "      <th>NaN</th>\n",
       "      <td>BIP_FLAG</td>\n",
       "      <td>business-flag indicating companies in the buil...</td>\n",
       "      <td>-1</td>\n",
       "      <td>unknown</td>\n",
       "    </tr>\n",
       "  </tbody>\n",
       "</table>\n",
       "</div>"
      ],
      "text/plain": [
       "                Attribute                                        Description  \\\n",
       "NaN              AGER_TYP                                 best-ager typology   \n",
       "NaN  ALTERSKATEGORIE_GROB       age classification through prename analysis    \n",
       "NaN             ANREDE_KZ                                             gender   \n",
       "NaN              BALLRAUM                     distance to next urban centre    \n",
       "NaN              BIP_FLAG  business-flag indicating companies in the buil...   \n",
       "\n",
       "     Value  Meaning  \n",
       "NaN     -1  unknown  \n",
       "NaN  -1, 0  unknown  \n",
       "NaN  -1, 0  unknown  \n",
       "NaN     -1  unknown  \n",
       "NaN     -1  unknown  "
      ]
     },
     "execution_count": 18,
     "metadata": {},
     "output_type": "execute_result"
    }
   ],
   "source": [
    "# Find unknown values\n",
    "attributes_values_unknown = attributes_values[attributes_values[\"Meaning\"] == \"unknown\"]\n",
    "attributes_values_unknown.head()"
   ]
  },
  {
   "cell_type": "code",
   "execution_count": 19,
   "metadata": {},
   "outputs": [],
   "source": [
    "# Write function that replaces the unknown value with nan\n",
    "def replace_unknowns_with_nan(value, unknown_values):\n",
    "    \"\"\"Replaces unknown values with nan\"\"\"\n",
    "    if value in unknown_values:\n",
    "        return np.nan\n",
    "    else:\n",
    "        return value\n",
    "\n",
    "# Write function that replaces all unknown values with nan across all columns\n",
    "def replace_unknown_values(df, unknown_attributes_values, verbose=False):\n",
    "    \"\"\" Replaces unknown values with nan \"\"\"\n",
    "   \n",
    "\n",
    "    for attribute in attributes_values_unknown.Attribute:\n",
    "        \n",
    "        # Return list with values translating to unknown.\n",
    "        unknown_values = attributes_values_unknown[attributes_values_unknown[\"Attribute\"] == attribute][\"Value\"]\n",
    "        unknown_values = unknown_values.astype(str).str.cat(sep = \",\")\n",
    "        unknown_values = [[int(x) for x in unknown_values.split(\",\")]]\n",
    "        \n",
    "        if verbose:\n",
    "            print(\"Replacing {} to NaN in Attribute {}\".format(unknown_values, attribute))\n",
    "        if attribute in df.columns:\n",
    "            df[attribute] = df[attribute].apply(replace_unknowns_with_nan, args=(unknown_values))\n",
    "    \n",
    "    return df"
   ]
  },
  {
   "cell_type": "code",
   "execution_count": 20,
   "metadata": {},
   "outputs": [
    {
     "name": "stdout",
     "output_type": "stream",
     "text": [
      "Replacing [[-1]] to NaN in Attribute AGER_TYP\n"
     ]
    },
    {
     "name": "stderr",
     "output_type": "stream",
     "text": [
      "/opt/conda/lib/python3.6/site-packages/ipykernel_launcher.py:24: SettingWithCopyWarning: \n",
      "A value is trying to be set on a copy of a slice from a DataFrame.\n",
      "Try using .loc[row_indexer,col_indexer] = value instead\n",
      "\n",
      "See the caveats in the documentation: http://pandas.pydata.org/pandas-docs/stable/indexing.html#indexing-view-versus-copy\n"
     ]
    },
    {
     "name": "stdout",
     "output_type": "stream",
     "text": [
      "Replacing [[-1, 0]] to NaN in Attribute ALTERSKATEGORIE_GROB\n",
      "Replacing [[-1, 0]] to NaN in Attribute ANREDE_KZ\n",
      "Replacing [[-1]] to NaN in Attribute BALLRAUM\n",
      "Replacing [[-1]] to NaN in Attribute BIP_FLAG\n",
      "Replacing [[-1]] to NaN in Attribute CAMEO_DEUG_2015\n",
      "Replacing [[-1]] to NaN in Attribute CAMEO_DEUINTL_2015\n",
      "Replacing [[0]] to NaN in Attribute CJT_GESAMTTYP\n",
      "Replacing [[-1]] to NaN in Attribute D19_KK_KUNDENTYP\n",
      "Replacing [[-1]] to NaN in Attribute EWDICHTE\n",
      "Replacing [[-1]] to NaN in Attribute FINANZTYP\n",
      "Replacing [[-1]] to NaN in Attribute FINANZ_ANLEGER\n",
      "Replacing [[-1]] to NaN in Attribute FINANZ_HAUSBAUER\n",
      "Replacing [[-1]] to NaN in Attribute FINANZ_MINIMALIST\n",
      "Replacing [[-1]] to NaN in Attribute FINANZ_SPARER\n",
      "Replacing [[-1]] to NaN in Attribute FINANZ_UNAUFFAELLIGER\n",
      "Replacing [[-1]] to NaN in Attribute FINANZ_VORSORGER\n",
      "Replacing [[-1, 0]] to NaN in Attribute GEBAEUDETYP\n",
      "Replacing [[-1, 0]] to NaN in Attribute GEOSCORE_KLS7\n",
      "Replacing [[-1, 0]] to NaN in Attribute HAUSHALTSSTRUKTUR\n",
      "Replacing [[-1]] to NaN in Attribute HEALTH_TYP\n",
      "Replacing [[-1, 0]] to NaN in Attribute HH_EINKOMMEN_SCORE\n",
      "Replacing [[-1]] to NaN in Attribute INNENSTADT\n",
      "Replacing [[-1, 9]] to NaN in Attribute KBA05_ALTER1\n",
      "Replacing [[-1, 9]] to NaN in Attribute KBA05_ALTER2\n",
      "Replacing [[-1, 9]] to NaN in Attribute KBA05_ALTER3\n",
      "Replacing [[-1, 9]] to NaN in Attribute KBA05_ALTER4\n",
      "Replacing [[-1, 9]] to NaN in Attribute KBA05_ANHANG\n",
      "Replacing [[-1]] to NaN in Attribute KBA05_ANTG1\n",
      "Replacing [[-1]] to NaN in Attribute KBA05_ANTG2\n",
      "Replacing [[-1]] to NaN in Attribute KBA05_ANTG3\n",
      "Replacing [[-1]] to NaN in Attribute KBA05_ANTG4\n",
      "Replacing [[-1, 9]] to NaN in Attribute KBA05_AUTOQUOT\n",
      "Replacing [[-1, 0]] to NaN in Attribute KBA05_BAUMAX\n",
      "Replacing [[-1, 9]] to NaN in Attribute KBA05_CCM1\n",
      "Replacing [[-1, 9]] to NaN in Attribute KBA05_CCM2\n",
      "Replacing [[-1, 9]] to NaN in Attribute KBA05_CCM3\n",
      "Replacing [[-1, 9]] to NaN in Attribute KBA05_CCM4\n",
      "Replacing [[-1, 9]] to NaN in Attribute KBA05_DIESEL\n",
      "Replacing [[-1, 9]] to NaN in Attribute KBA05_FRAU\n",
      "Replacing [[-1, 0]] to NaN in Attribute KBA05_GBZ\n",
      "Replacing [[-1, 9]] to NaN in Attribute KBA05_HERST1\n",
      "Replacing [[-1, 9]] to NaN in Attribute KBA05_HERST2\n",
      "Replacing [[-1, 9]] to NaN in Attribute KBA05_HERST3\n",
      "Replacing [[-1, 9]] to NaN in Attribute KBA05_HERST4\n",
      "Replacing [[-1, 9]] to NaN in Attribute KBA05_HERST5\n",
      "Replacing [[-1, 9]] to NaN in Attribute KBA05_HERSTTEMP\n",
      "Replacing [[-1, 9]] to NaN in Attribute KBA05_KRSAQUOT\n",
      "Replacing [[-1, 9]] to NaN in Attribute KBA05_KRSHERST1\n",
      "Replacing [[-1, 9]] to NaN in Attribute KBA05_KRSHERST2\n",
      "Replacing [[-1, 9]] to NaN in Attribute KBA05_KRSHERST3\n",
      "Replacing [[-1, 9]] to NaN in Attribute KBA05_KRSKLEIN\n",
      "Replacing [[-1, 9]] to NaN in Attribute KBA05_KRSOBER\n",
      "Replacing [[-1, 9]] to NaN in Attribute KBA05_KRSVAN\n",
      "Replacing [[-1, 9]] to NaN in Attribute KBA05_KRSZUL\n",
      "Replacing [[-1, 9]] to NaN in Attribute KBA05_KW1\n",
      "Replacing [[-1, 9]] to NaN in Attribute KBA05_KW2\n",
      "Replacing [[-1, 9]] to NaN in Attribute KBA05_KW3\n",
      "Replacing [[-1, 9]] to NaN in Attribute KBA05_MAXAH\n",
      "Replacing [[-1, 9]] to NaN in Attribute KBA05_MAXBJ\n",
      "Replacing [[-1, 9]] to NaN in Attribute KBA05_MAXHERST\n",
      "Replacing [[-1, 9]] to NaN in Attribute KBA05_MAXSEG\n",
      "Replacing [[-1, 9]] to NaN in Attribute KBA05_MAXVORB\n",
      "Replacing [[-1, 9]] to NaN in Attribute KBA05_MOD1\n",
      "Replacing [[-1, 9]] to NaN in Attribute KBA05_MOD2\n",
      "Replacing [[-1, 9]] to NaN in Attribute KBA05_MOD3\n",
      "Replacing [[-1, 9]] to NaN in Attribute KBA05_MOD4\n",
      "Replacing [[-1, 9]] to NaN in Attribute KBA05_MOD8\n",
      "Replacing [[-1, 9]] to NaN in Attribute KBA05_MODTEMP\n",
      "Replacing [[-1, 9]] to NaN in Attribute KBA05_MOTOR\n",
      "Replacing [[-1, 9]] to NaN in Attribute KBA05_MOTRAD\n",
      "Replacing [[-1, 9]] to NaN in Attribute KBA05_SEG1\n",
      "Replacing [[-1, 9]] to NaN in Attribute KBA05_SEG10\n",
      "Replacing [[-1, 9]] to NaN in Attribute KBA05_SEG2\n",
      "Replacing [[-1, 9]] to NaN in Attribute KBA05_SEG3\n",
      "Replacing [[-1, 9]] to NaN in Attribute KBA05_SEG4\n",
      "Replacing [[-1, 9]] to NaN in Attribute KBA05_SEG5\n",
      "Replacing [[-1, 9]] to NaN in Attribute KBA05_SEG6\n",
      "Replacing [[-1, 9]] to NaN in Attribute KBA05_SEG7\n",
      "Replacing [[-1, 9]] to NaN in Attribute KBA05_SEG8\n",
      "Replacing [[-1, 9]] to NaN in Attribute KBA05_SEG9\n",
      "Replacing [[-1, 9]] to NaN in Attribute KBA05_VORB0\n",
      "Replacing [[-1, 9]] to NaN in Attribute KBA05_VORB1\n",
      "Replacing [[-1, 9]] to NaN in Attribute KBA05_VORB2\n",
      "Replacing [[-1, 9]] to NaN in Attribute KBA05_ZUL1\n",
      "Replacing [[-1, 9]] to NaN in Attribute KBA05_ZUL2\n",
      "Replacing [[-1, 9]] to NaN in Attribute KBA05_ZUL3\n",
      "Replacing [[-1, 9]] to NaN in Attribute KBA05_ZUL4\n",
      "Replacing [[-1]] to NaN in Attribute KBA13_ALTERHALTER_30\n",
      "Replacing [[-1]] to NaN in Attribute KBA13_ALTERHALTER_45\n",
      "Replacing [[-1]] to NaN in Attribute KBA13_ALTERHALTER_60\n",
      "Replacing [[-1]] to NaN in Attribute KBA13_ALTERHALTER_61\n",
      "Replacing [[-1]] to NaN in Attribute KBA13_AUDI\n",
      "Replacing [[-1]] to NaN in Attribute KBA13_AUTOQUOTE\n",
      "Replacing [[-1]] to NaN in Attribute KBA13_BJ_1999\n",
      "Replacing [[-1]] to NaN in Attribute KBA13_BJ_2000\n",
      "Replacing [[-1]] to NaN in Attribute KBA13_BJ_2004\n",
      "Replacing [[-1]] to NaN in Attribute KBA13_BJ_2006\n",
      "Replacing [[-1]] to NaN in Attribute KBA13_BJ_2008\n",
      "Replacing [[-1]] to NaN in Attribute KBA13_BJ_2009\n",
      "Replacing [[-1]] to NaN in Attribute KBA13_BMW\n",
      "Replacing [[-1]] to NaN in Attribute KBA13_CCM_1000\n",
      "Replacing [[-1]] to NaN in Attribute KBA13_CCM_1200\n",
      "Replacing [[-1]] to NaN in Attribute KBA13_CCM_1400\n",
      "Replacing [[-1]] to NaN in Attribute KBA13_CCM_0_1400\n",
      "Replacing [[-1]] to NaN in Attribute KBA13_CCM_1500\n",
      "Replacing [[-1]] to NaN in Attribute KBA13_CCM_1400_2500\n",
      "Replacing [[-1]] to NaN in Attribute KBA13_CCM_1600\n",
      "Replacing [[-1]] to NaN in Attribute KBA13_CCM_1800\n",
      "Replacing [[-1]] to NaN in Attribute KBA13_CCM_2000\n",
      "Replacing [[-1]] to NaN in Attribute KBA13_CCM_2500\n",
      "Replacing [[-1]] to NaN in Attribute KBA13_CCM_2501\n",
      "Replacing [[-1]] to NaN in Attribute KBA13_CCM_3000\n",
      "Replacing [[-1]] to NaN in Attribute KBA13_CCM_3001\n",
      "Replacing [[-1]] to NaN in Attribute KBA13_FAB_ASIEN\n",
      "Replacing [[-1]] to NaN in Attribute KBA13_FAB_SONSTIGE\n",
      "Replacing [[-1]] to NaN in Attribute KBA13_FIAT\n",
      "Replacing [[-1]] to NaN in Attribute KBA13_FORD\n",
      "Replacing [[-1]] to NaN in Attribute KBA13_HALTER_20\n",
      "Replacing [[-1]] to NaN in Attribute KBA13_HALTER_25\n",
      "Replacing [[-1]] to NaN in Attribute KBA13_HALTER_30\n",
      "Replacing [[-1]] to NaN in Attribute KBA13_HALTER_35\n",
      "Replacing [[-1]] to NaN in Attribute KBA13_HALTER_40\n",
      "Replacing [[-1]] to NaN in Attribute KBA13_HALTER_45\n",
      "Replacing [[-1]] to NaN in Attribute KBA13_HALTER_50\n",
      "Replacing [[-1]] to NaN in Attribute KBA13_HALTER_55\n",
      "Replacing [[-1]] to NaN in Attribute KBA13_HALTER_60\n",
      "Replacing [[-1]] to NaN in Attribute KBA13_HALTER_65\n",
      "Replacing [[-1]] to NaN in Attribute KBA13_HALTER_66\n",
      "Replacing [[-1]] to NaN in Attribute KBA13_HERST_ASIEN\n",
      "Replacing [[-1]] to NaN in Attribute KBA13_HERST_AUDI_VW\n",
      "Replacing [[-1]] to NaN in Attribute KBA13_HERST_BMW_BENZ\n",
      "Replacing [[-1]] to NaN in Attribute KBA13_HERST_EUROPA\n",
      "Replacing [[-1]] to NaN in Attribute KBA13_HERST_FORD_OPEL\n",
      "Replacing [[-1]] to NaN in Attribute KBA13_HERST_SONST\n",
      "Replacing [[-1]] to NaN in Attribute KBA13_KMH_110\n",
      "Replacing [[-1]] to NaN in Attribute KBA13_KMH_140\n",
      "Replacing [[-1]] to NaN in Attribute KBA13_KMH_180\n",
      "Replacing [[-1]] to NaN in Attribute KBA13_KMH_0_140\n",
      "Replacing [[-1]] to NaN in Attribute KBA13_KMH_140_210\n",
      "Replacing [[-1]] to NaN in Attribute KBA13_KMH_211\n",
      "Replacing [[-1]] to NaN in Attribute KBA13_KMH_250\n",
      "Replacing [[-1]] to NaN in Attribute KBA13_KMH_251\n",
      "Replacing [[-1]] to NaN in Attribute KBA13_KRSAQUOT\n",
      "Replacing [[-1]] to NaN in Attribute KBA13_KRSHERST_AUDI_VW\n",
      "Replacing [[-1]] to NaN in Attribute KBA13_KRSHERST_BMW_BENZ\n",
      "Replacing [[-1]] to NaN in Attribute KBA13_KRSHERST_FORD_OPEL\n",
      "Replacing [[-1]] to NaN in Attribute KBA13_KRSSEG_KLEIN\n",
      "Replacing [[-1]] to NaN in Attribute KBA13_KRSSEG_OBER\n",
      "Replacing [[-1]] to NaN in Attribute KBA13_KRSSEG_VAN\n",
      "Replacing [[-1]] to NaN in Attribute KBA13_KRSZUL_NEU\n",
      "Replacing [[-1]] to NaN in Attribute KBA13_KW_30\n",
      "Replacing [[-1]] to NaN in Attribute KBA13_KW_40\n",
      "Replacing [[-1]] to NaN in Attribute KBA13_KW_50\n",
      "Replacing [[-1]] to NaN in Attribute KBA13_KW_60\n",
      "Replacing [[-1]] to NaN in Attribute KBA13_KW_0_60\n",
      "Replacing [[-1]] to NaN in Attribute KBA13_KW_70\n",
      "Replacing [[-1]] to NaN in Attribute KBA13_KW_61_120\n",
      "Replacing [[-1]] to NaN in Attribute KBA13_KW_80\n",
      "Replacing [[-1]] to NaN in Attribute KBA13_KW_90\n",
      "Replacing [[-1]] to NaN in Attribute KBA13_KW_110\n",
      "Replacing [[-1]] to NaN in Attribute KBA13_KW_120\n",
      "Replacing [[-1]] to NaN in Attribute KBA13_KW_121\n",
      "Replacing [[-1]] to NaN in Attribute KBA13_MAZDA\n",
      "Replacing [[-1]] to NaN in Attribute KBA13_MERCEDES\n",
      "Replacing [[-1]] to NaN in Attribute KBA13_MOTOR\n",
      "Replacing [[-1]] to NaN in Attribute KBA13_NISSAN\n",
      "Replacing [[-1]] to NaN in Attribute KBA13_OPEL\n",
      "Replacing [[-1]] to NaN in Attribute KBA13_PEUGEOT\n",
      "Replacing [[-1]] to NaN in Attribute KBA13_RENAULT\n",
      "Replacing [[-1]] to NaN in Attribute KBA13_SEG_GELAENDEWAGEN\n",
      "Replacing [[-1]] to NaN in Attribute KBA13_SEG_GROSSRAUMVANS\n",
      "Replacing [[-1]] to NaN in Attribute KBA13_SEG_KLEINST\n",
      "Replacing [[-1]] to NaN in Attribute KBA13_SEG_KLEINWAGEN\n",
      "Replacing [[-1]] to NaN in Attribute KBA13_SEG_KOMPAKTKLASSE\n",
      "Replacing [[-1]] to NaN in Attribute KBA13_SEG_MINIVANS\n",
      "Replacing [[-1]] to NaN in Attribute KBA13_SEG_MINIWAGEN\n",
      "Replacing [[-1]] to NaN in Attribute KBA13_SEG_MITTELKLASSE\n",
      "Replacing [[-1]] to NaN in Attribute KBA13_SEG_OBEREMITTELKLASSE\n",
      "Replacing [[-1]] to NaN in Attribute KBA13_SEG_OBERKLASSE\n",
      "Replacing [[-1]] to NaN in Attribute KBA13_SEG_SONSTIGE\n",
      "Replacing [[-1]] to NaN in Attribute KBA13_SEG_SPORTWAGEN\n",
      "Replacing [[-1]] to NaN in Attribute KBA13_SEG_UTILITIES\n",
      "Replacing [[-1]] to NaN in Attribute KBA13_SEG_VAN\n",
      "Replacing [[-1]] to NaN in Attribute KBA13_SEG_WOHNMOBILE\n",
      "Replacing [[-1]] to NaN in Attribute KBA13_SITZE_4\n",
      "Replacing [[-1]] to NaN in Attribute KBA13_SITZE_5\n",
      "Replacing [[-1]] to NaN in Attribute KBA13_SITZE_6\n",
      "Replacing [[-1]] to NaN in Attribute KBA13_TOYOTA\n",
      "Replacing [[-1]] to NaN in Attribute KBA13_VORB_0\n",
      "Replacing [[-1]] to NaN in Attribute KBA13_VORB_1\n",
      "Replacing [[-1]] to NaN in Attribute KBA13_VORB_1_2\n",
      "Replacing [[-1]] to NaN in Attribute KBA13_VORB_2\n",
      "Replacing [[-1]] to NaN in Attribute KBA13_VORB_3\n",
      "Replacing [[-1]] to NaN in Attribute KBA13_VW\n",
      "Replacing [[-1, 0]] to NaN in Attribute KKK\n",
      "Replacing [[-1, 0]] to NaN in Attribute NATIONALITAET_KZ\n",
      "Replacing [[-1]] to NaN in Attribute ORTSGR_KLS9\n",
      "Replacing [[-1]] to NaN in Attribute OST_WEST_KZ\n",
      "Replacing [[-1]] to NaN in Attribute PLZ8_ANTG1\n",
      "Replacing [[-1]] to NaN in Attribute PLZ8_ANTG2\n",
      "Replacing [[-1]] to NaN in Attribute PLZ8_ANTG3\n",
      "Replacing [[-1]] to NaN in Attribute PLZ8_ANTG4\n",
      "Replacing [[-1]] to NaN in Attribute PLZ8_GBZ\n",
      "Replacing [[-1]] to NaN in Attribute PLZ8_HHZ\n",
      "Replacing [[-1, 0]] to NaN in Attribute PRAEGENDE_JUGENDJAHRE\n",
      "Replacing [[-1, 0]] to NaN in Attribute REGIOTYP\n",
      "Replacing [[-1, 9]] to NaN in Attribute RELAT_AB\n",
      "Replacing [[0]] to NaN in Attribute RETOURTYP_BK_S\n",
      "Replacing [[-1, 9]] to NaN in Attribute SEMIO_DOM\n",
      "Replacing [[-1, 9]] to NaN in Attribute SEMIO_ERL\n",
      "Replacing [[-1, 9]] to NaN in Attribute SEMIO_FAM\n",
      "Replacing [[-1, 9]] to NaN in Attribute SEMIO_KAEM\n",
      "Replacing [[-1, 9]] to NaN in Attribute SEMIO_KRIT\n",
      "Replacing [[-1, 9]] to NaN in Attribute SEMIO_KULT\n",
      "Replacing [[-1, 9]] to NaN in Attribute SEMIO_LUST\n",
      "Replacing [[-1, 9]] to NaN in Attribute SEMIO_MAT\n",
      "Replacing [[-1, 9]] to NaN in Attribute SEMIO_PFLICHT\n",
      "Replacing [[-1, 9]] to NaN in Attribute SEMIO_RAT\n",
      "Replacing [[-1, 9]] to NaN in Attribute SEMIO_REL\n",
      "Replacing [[-1, 9]] to NaN in Attribute SEMIO_SOZ\n",
      "Replacing [[-1, 9]] to NaN in Attribute SEMIO_TRADV\n",
      "Replacing [[-1, 9]] to NaN in Attribute SEMIO_VERT\n",
      "Replacing [[-1]] to NaN in Attribute SHOPPER_TYP\n",
      "Replacing [[-1]] to NaN in Attribute SOHO_FLAG\n",
      "Replacing [[-1, 0]] to NaN in Attribute TITEL_KZ\n",
      "Replacing [[-1]] to NaN in Attribute VERS_TYP\n",
      "Replacing [[-1, 0]] to NaN in Attribute WOHNDAUER_2008\n",
      "Replacing [[-1]] to NaN in Attribute WOHNLAGE\n",
      "Replacing [[-1, 0]] to NaN in Attribute WACHSTUMSGEBIET_NB\n",
      "Replacing [[-1, 0]] to NaN in Attribute W_KEIT_KIND_HH\n",
      "Replacing [[-1, 9]] to NaN in Attribute ZABEOTYP\n"
     ]
    }
   ],
   "source": [
    "azdias = replace_unknown_values(azdias, attributes_values_unknown, verbose=True)"
   ]
  },
  {
   "cell_type": "code",
   "execution_count": 21,
   "metadata": {},
   "outputs": [
    {
     "name": "stdout",
     "output_type": "stream",
     "text": [
      "Replacing [[-1]] to NaN in Attribute AGER_TYP\n"
     ]
    },
    {
     "name": "stderr",
     "output_type": "stream",
     "text": [
      "/opt/conda/lib/python3.6/site-packages/ipykernel_launcher.py:24: SettingWithCopyWarning: \n",
      "A value is trying to be set on a copy of a slice from a DataFrame.\n",
      "Try using .loc[row_indexer,col_indexer] = value instead\n",
      "\n",
      "See the caveats in the documentation: http://pandas.pydata.org/pandas-docs/stable/indexing.html#indexing-view-versus-copy\n"
     ]
    },
    {
     "name": "stdout",
     "output_type": "stream",
     "text": [
      "Replacing [[-1, 0]] to NaN in Attribute ALTERSKATEGORIE_GROB\n",
      "Replacing [[-1, 0]] to NaN in Attribute ANREDE_KZ\n",
      "Replacing [[-1]] to NaN in Attribute BALLRAUM\n",
      "Replacing [[-1]] to NaN in Attribute BIP_FLAG\n",
      "Replacing [[-1]] to NaN in Attribute CAMEO_DEUG_2015\n",
      "Replacing [[-1]] to NaN in Attribute CAMEO_DEUINTL_2015\n",
      "Replacing [[0]] to NaN in Attribute CJT_GESAMTTYP\n",
      "Replacing [[-1]] to NaN in Attribute D19_KK_KUNDENTYP\n",
      "Replacing [[-1]] to NaN in Attribute EWDICHTE\n",
      "Replacing [[-1]] to NaN in Attribute FINANZTYP\n",
      "Replacing [[-1]] to NaN in Attribute FINANZ_ANLEGER\n",
      "Replacing [[-1]] to NaN in Attribute FINANZ_HAUSBAUER\n",
      "Replacing [[-1]] to NaN in Attribute FINANZ_MINIMALIST\n",
      "Replacing [[-1]] to NaN in Attribute FINANZ_SPARER\n",
      "Replacing [[-1]] to NaN in Attribute FINANZ_UNAUFFAELLIGER\n",
      "Replacing [[-1]] to NaN in Attribute FINANZ_VORSORGER\n",
      "Replacing [[-1, 0]] to NaN in Attribute GEBAEUDETYP\n",
      "Replacing [[-1, 0]] to NaN in Attribute GEOSCORE_KLS7\n",
      "Replacing [[-1, 0]] to NaN in Attribute HAUSHALTSSTRUKTUR\n",
      "Replacing [[-1]] to NaN in Attribute HEALTH_TYP\n",
      "Replacing [[-1, 0]] to NaN in Attribute HH_EINKOMMEN_SCORE\n",
      "Replacing [[-1]] to NaN in Attribute INNENSTADT\n",
      "Replacing [[-1, 9]] to NaN in Attribute KBA05_ALTER1\n",
      "Replacing [[-1, 9]] to NaN in Attribute KBA05_ALTER2\n",
      "Replacing [[-1, 9]] to NaN in Attribute KBA05_ALTER3\n",
      "Replacing [[-1, 9]] to NaN in Attribute KBA05_ALTER4\n",
      "Replacing [[-1, 9]] to NaN in Attribute KBA05_ANHANG\n",
      "Replacing [[-1]] to NaN in Attribute KBA05_ANTG1\n",
      "Replacing [[-1]] to NaN in Attribute KBA05_ANTG2\n",
      "Replacing [[-1]] to NaN in Attribute KBA05_ANTG3\n",
      "Replacing [[-1]] to NaN in Attribute KBA05_ANTG4\n",
      "Replacing [[-1, 9]] to NaN in Attribute KBA05_AUTOQUOT\n",
      "Replacing [[-1, 0]] to NaN in Attribute KBA05_BAUMAX\n",
      "Replacing [[-1, 9]] to NaN in Attribute KBA05_CCM1\n",
      "Replacing [[-1, 9]] to NaN in Attribute KBA05_CCM2\n",
      "Replacing [[-1, 9]] to NaN in Attribute KBA05_CCM3\n",
      "Replacing [[-1, 9]] to NaN in Attribute KBA05_CCM4\n",
      "Replacing [[-1, 9]] to NaN in Attribute KBA05_DIESEL\n",
      "Replacing [[-1, 9]] to NaN in Attribute KBA05_FRAU\n",
      "Replacing [[-1, 0]] to NaN in Attribute KBA05_GBZ\n",
      "Replacing [[-1, 9]] to NaN in Attribute KBA05_HERST1\n",
      "Replacing [[-1, 9]] to NaN in Attribute KBA05_HERST2\n",
      "Replacing [[-1, 9]] to NaN in Attribute KBA05_HERST3\n",
      "Replacing [[-1, 9]] to NaN in Attribute KBA05_HERST4\n",
      "Replacing [[-1, 9]] to NaN in Attribute KBA05_HERST5\n",
      "Replacing [[-1, 9]] to NaN in Attribute KBA05_HERSTTEMP\n",
      "Replacing [[-1, 9]] to NaN in Attribute KBA05_KRSAQUOT\n",
      "Replacing [[-1, 9]] to NaN in Attribute KBA05_KRSHERST1\n",
      "Replacing [[-1, 9]] to NaN in Attribute KBA05_KRSHERST2\n",
      "Replacing [[-1, 9]] to NaN in Attribute KBA05_KRSHERST3\n",
      "Replacing [[-1, 9]] to NaN in Attribute KBA05_KRSKLEIN\n",
      "Replacing [[-1, 9]] to NaN in Attribute KBA05_KRSOBER\n",
      "Replacing [[-1, 9]] to NaN in Attribute KBA05_KRSVAN\n",
      "Replacing [[-1, 9]] to NaN in Attribute KBA05_KRSZUL\n",
      "Replacing [[-1, 9]] to NaN in Attribute KBA05_KW1\n",
      "Replacing [[-1, 9]] to NaN in Attribute KBA05_KW2\n",
      "Replacing [[-1, 9]] to NaN in Attribute KBA05_KW3\n",
      "Replacing [[-1, 9]] to NaN in Attribute KBA05_MAXAH\n",
      "Replacing [[-1, 9]] to NaN in Attribute KBA05_MAXBJ\n",
      "Replacing [[-1, 9]] to NaN in Attribute KBA05_MAXHERST\n",
      "Replacing [[-1, 9]] to NaN in Attribute KBA05_MAXSEG\n",
      "Replacing [[-1, 9]] to NaN in Attribute KBA05_MAXVORB\n",
      "Replacing [[-1, 9]] to NaN in Attribute KBA05_MOD1\n",
      "Replacing [[-1, 9]] to NaN in Attribute KBA05_MOD2\n",
      "Replacing [[-1, 9]] to NaN in Attribute KBA05_MOD3\n",
      "Replacing [[-1, 9]] to NaN in Attribute KBA05_MOD4\n",
      "Replacing [[-1, 9]] to NaN in Attribute KBA05_MOD8\n",
      "Replacing [[-1, 9]] to NaN in Attribute KBA05_MODTEMP\n",
      "Replacing [[-1, 9]] to NaN in Attribute KBA05_MOTOR\n",
      "Replacing [[-1, 9]] to NaN in Attribute KBA05_MOTRAD\n",
      "Replacing [[-1, 9]] to NaN in Attribute KBA05_SEG1\n",
      "Replacing [[-1, 9]] to NaN in Attribute KBA05_SEG10\n",
      "Replacing [[-1, 9]] to NaN in Attribute KBA05_SEG2\n",
      "Replacing [[-1, 9]] to NaN in Attribute KBA05_SEG3\n",
      "Replacing [[-1, 9]] to NaN in Attribute KBA05_SEG4\n",
      "Replacing [[-1, 9]] to NaN in Attribute KBA05_SEG5\n",
      "Replacing [[-1, 9]] to NaN in Attribute KBA05_SEG6\n",
      "Replacing [[-1, 9]] to NaN in Attribute KBA05_SEG7\n",
      "Replacing [[-1, 9]] to NaN in Attribute KBA05_SEG8\n",
      "Replacing [[-1, 9]] to NaN in Attribute KBA05_SEG9\n",
      "Replacing [[-1, 9]] to NaN in Attribute KBA05_VORB0\n",
      "Replacing [[-1, 9]] to NaN in Attribute KBA05_VORB1\n",
      "Replacing [[-1, 9]] to NaN in Attribute KBA05_VORB2\n",
      "Replacing [[-1, 9]] to NaN in Attribute KBA05_ZUL1\n",
      "Replacing [[-1, 9]] to NaN in Attribute KBA05_ZUL2\n",
      "Replacing [[-1, 9]] to NaN in Attribute KBA05_ZUL3\n",
      "Replacing [[-1, 9]] to NaN in Attribute KBA05_ZUL4\n",
      "Replacing [[-1]] to NaN in Attribute KBA13_ALTERHALTER_30\n",
      "Replacing [[-1]] to NaN in Attribute KBA13_ALTERHALTER_45\n",
      "Replacing [[-1]] to NaN in Attribute KBA13_ALTERHALTER_60\n",
      "Replacing [[-1]] to NaN in Attribute KBA13_ALTERHALTER_61\n",
      "Replacing [[-1]] to NaN in Attribute KBA13_AUDI\n",
      "Replacing [[-1]] to NaN in Attribute KBA13_AUTOQUOTE\n",
      "Replacing [[-1]] to NaN in Attribute KBA13_BJ_1999\n",
      "Replacing [[-1]] to NaN in Attribute KBA13_BJ_2000\n",
      "Replacing [[-1]] to NaN in Attribute KBA13_BJ_2004\n",
      "Replacing [[-1]] to NaN in Attribute KBA13_BJ_2006\n",
      "Replacing [[-1]] to NaN in Attribute KBA13_BJ_2008\n",
      "Replacing [[-1]] to NaN in Attribute KBA13_BJ_2009\n",
      "Replacing [[-1]] to NaN in Attribute KBA13_BMW\n",
      "Replacing [[-1]] to NaN in Attribute KBA13_CCM_1000\n",
      "Replacing [[-1]] to NaN in Attribute KBA13_CCM_1200\n",
      "Replacing [[-1]] to NaN in Attribute KBA13_CCM_1400\n",
      "Replacing [[-1]] to NaN in Attribute KBA13_CCM_0_1400\n",
      "Replacing [[-1]] to NaN in Attribute KBA13_CCM_1500\n",
      "Replacing [[-1]] to NaN in Attribute KBA13_CCM_1400_2500\n",
      "Replacing [[-1]] to NaN in Attribute KBA13_CCM_1600\n",
      "Replacing [[-1]] to NaN in Attribute KBA13_CCM_1800\n",
      "Replacing [[-1]] to NaN in Attribute KBA13_CCM_2000\n",
      "Replacing [[-1]] to NaN in Attribute KBA13_CCM_2500\n",
      "Replacing [[-1]] to NaN in Attribute KBA13_CCM_2501\n",
      "Replacing [[-1]] to NaN in Attribute KBA13_CCM_3000\n",
      "Replacing [[-1]] to NaN in Attribute KBA13_CCM_3001\n",
      "Replacing [[-1]] to NaN in Attribute KBA13_FAB_ASIEN\n",
      "Replacing [[-1]] to NaN in Attribute KBA13_FAB_SONSTIGE\n",
      "Replacing [[-1]] to NaN in Attribute KBA13_FIAT\n",
      "Replacing [[-1]] to NaN in Attribute KBA13_FORD\n",
      "Replacing [[-1]] to NaN in Attribute KBA13_HALTER_20\n",
      "Replacing [[-1]] to NaN in Attribute KBA13_HALTER_25\n",
      "Replacing [[-1]] to NaN in Attribute KBA13_HALTER_30\n",
      "Replacing [[-1]] to NaN in Attribute KBA13_HALTER_35\n",
      "Replacing [[-1]] to NaN in Attribute KBA13_HALTER_40\n",
      "Replacing [[-1]] to NaN in Attribute KBA13_HALTER_45\n",
      "Replacing [[-1]] to NaN in Attribute KBA13_HALTER_50\n",
      "Replacing [[-1]] to NaN in Attribute KBA13_HALTER_55\n",
      "Replacing [[-1]] to NaN in Attribute KBA13_HALTER_60\n",
      "Replacing [[-1]] to NaN in Attribute KBA13_HALTER_65\n",
      "Replacing [[-1]] to NaN in Attribute KBA13_HALTER_66\n",
      "Replacing [[-1]] to NaN in Attribute KBA13_HERST_ASIEN\n",
      "Replacing [[-1]] to NaN in Attribute KBA13_HERST_AUDI_VW\n",
      "Replacing [[-1]] to NaN in Attribute KBA13_HERST_BMW_BENZ\n",
      "Replacing [[-1]] to NaN in Attribute KBA13_HERST_EUROPA\n",
      "Replacing [[-1]] to NaN in Attribute KBA13_HERST_FORD_OPEL\n",
      "Replacing [[-1]] to NaN in Attribute KBA13_HERST_SONST\n",
      "Replacing [[-1]] to NaN in Attribute KBA13_KMH_110\n",
      "Replacing [[-1]] to NaN in Attribute KBA13_KMH_140\n",
      "Replacing [[-1]] to NaN in Attribute KBA13_KMH_180\n",
      "Replacing [[-1]] to NaN in Attribute KBA13_KMH_0_140\n",
      "Replacing [[-1]] to NaN in Attribute KBA13_KMH_140_210\n",
      "Replacing [[-1]] to NaN in Attribute KBA13_KMH_211\n",
      "Replacing [[-1]] to NaN in Attribute KBA13_KMH_250\n",
      "Replacing [[-1]] to NaN in Attribute KBA13_KMH_251\n",
      "Replacing [[-1]] to NaN in Attribute KBA13_KRSAQUOT\n",
      "Replacing [[-1]] to NaN in Attribute KBA13_KRSHERST_AUDI_VW\n",
      "Replacing [[-1]] to NaN in Attribute KBA13_KRSHERST_BMW_BENZ\n",
      "Replacing [[-1]] to NaN in Attribute KBA13_KRSHERST_FORD_OPEL\n",
      "Replacing [[-1]] to NaN in Attribute KBA13_KRSSEG_KLEIN\n",
      "Replacing [[-1]] to NaN in Attribute KBA13_KRSSEG_OBER\n",
      "Replacing [[-1]] to NaN in Attribute KBA13_KRSSEG_VAN\n",
      "Replacing [[-1]] to NaN in Attribute KBA13_KRSZUL_NEU\n",
      "Replacing [[-1]] to NaN in Attribute KBA13_KW_30\n",
      "Replacing [[-1]] to NaN in Attribute KBA13_KW_40\n",
      "Replacing [[-1]] to NaN in Attribute KBA13_KW_50\n",
      "Replacing [[-1]] to NaN in Attribute KBA13_KW_60\n",
      "Replacing [[-1]] to NaN in Attribute KBA13_KW_0_60\n",
      "Replacing [[-1]] to NaN in Attribute KBA13_KW_70\n",
      "Replacing [[-1]] to NaN in Attribute KBA13_KW_61_120\n",
      "Replacing [[-1]] to NaN in Attribute KBA13_KW_80\n",
      "Replacing [[-1]] to NaN in Attribute KBA13_KW_90\n",
      "Replacing [[-1]] to NaN in Attribute KBA13_KW_110\n",
      "Replacing [[-1]] to NaN in Attribute KBA13_KW_120\n",
      "Replacing [[-1]] to NaN in Attribute KBA13_KW_121\n",
      "Replacing [[-1]] to NaN in Attribute KBA13_MAZDA\n",
      "Replacing [[-1]] to NaN in Attribute KBA13_MERCEDES\n",
      "Replacing [[-1]] to NaN in Attribute KBA13_MOTOR\n",
      "Replacing [[-1]] to NaN in Attribute KBA13_NISSAN\n",
      "Replacing [[-1]] to NaN in Attribute KBA13_OPEL\n",
      "Replacing [[-1]] to NaN in Attribute KBA13_PEUGEOT\n",
      "Replacing [[-1]] to NaN in Attribute KBA13_RENAULT\n",
      "Replacing [[-1]] to NaN in Attribute KBA13_SEG_GELAENDEWAGEN\n",
      "Replacing [[-1]] to NaN in Attribute KBA13_SEG_GROSSRAUMVANS\n",
      "Replacing [[-1]] to NaN in Attribute KBA13_SEG_KLEINST\n",
      "Replacing [[-1]] to NaN in Attribute KBA13_SEG_KLEINWAGEN\n",
      "Replacing [[-1]] to NaN in Attribute KBA13_SEG_KOMPAKTKLASSE\n",
      "Replacing [[-1]] to NaN in Attribute KBA13_SEG_MINIVANS\n",
      "Replacing [[-1]] to NaN in Attribute KBA13_SEG_MINIWAGEN\n",
      "Replacing [[-1]] to NaN in Attribute KBA13_SEG_MITTELKLASSE\n",
      "Replacing [[-1]] to NaN in Attribute KBA13_SEG_OBEREMITTELKLASSE\n",
      "Replacing [[-1]] to NaN in Attribute KBA13_SEG_OBERKLASSE\n",
      "Replacing [[-1]] to NaN in Attribute KBA13_SEG_SONSTIGE\n",
      "Replacing [[-1]] to NaN in Attribute KBA13_SEG_SPORTWAGEN\n",
      "Replacing [[-1]] to NaN in Attribute KBA13_SEG_UTILITIES\n",
      "Replacing [[-1]] to NaN in Attribute KBA13_SEG_VAN\n",
      "Replacing [[-1]] to NaN in Attribute KBA13_SEG_WOHNMOBILE\n",
      "Replacing [[-1]] to NaN in Attribute KBA13_SITZE_4\n",
      "Replacing [[-1]] to NaN in Attribute KBA13_SITZE_5\n",
      "Replacing [[-1]] to NaN in Attribute KBA13_SITZE_6\n",
      "Replacing [[-1]] to NaN in Attribute KBA13_TOYOTA\n",
      "Replacing [[-1]] to NaN in Attribute KBA13_VORB_0\n",
      "Replacing [[-1]] to NaN in Attribute KBA13_VORB_1\n",
      "Replacing [[-1]] to NaN in Attribute KBA13_VORB_1_2\n",
      "Replacing [[-1]] to NaN in Attribute KBA13_VORB_2\n",
      "Replacing [[-1]] to NaN in Attribute KBA13_VORB_3\n",
      "Replacing [[-1]] to NaN in Attribute KBA13_VW\n",
      "Replacing [[-1, 0]] to NaN in Attribute KKK\n",
      "Replacing [[-1, 0]] to NaN in Attribute NATIONALITAET_KZ\n",
      "Replacing [[-1]] to NaN in Attribute ORTSGR_KLS9\n",
      "Replacing [[-1]] to NaN in Attribute OST_WEST_KZ\n",
      "Replacing [[-1]] to NaN in Attribute PLZ8_ANTG1\n",
      "Replacing [[-1]] to NaN in Attribute PLZ8_ANTG2\n",
      "Replacing [[-1]] to NaN in Attribute PLZ8_ANTG3\n",
      "Replacing [[-1]] to NaN in Attribute PLZ8_ANTG4\n",
      "Replacing [[-1]] to NaN in Attribute PLZ8_GBZ\n",
      "Replacing [[-1]] to NaN in Attribute PLZ8_HHZ\n",
      "Replacing [[-1, 0]] to NaN in Attribute PRAEGENDE_JUGENDJAHRE\n",
      "Replacing [[-1, 0]] to NaN in Attribute REGIOTYP\n",
      "Replacing [[-1, 9]] to NaN in Attribute RELAT_AB\n",
      "Replacing [[0]] to NaN in Attribute RETOURTYP_BK_S\n",
      "Replacing [[-1, 9]] to NaN in Attribute SEMIO_DOM\n",
      "Replacing [[-1, 9]] to NaN in Attribute SEMIO_ERL\n",
      "Replacing [[-1, 9]] to NaN in Attribute SEMIO_FAM\n",
      "Replacing [[-1, 9]] to NaN in Attribute SEMIO_KAEM\n",
      "Replacing [[-1, 9]] to NaN in Attribute SEMIO_KRIT\n",
      "Replacing [[-1, 9]] to NaN in Attribute SEMIO_KULT\n",
      "Replacing [[-1, 9]] to NaN in Attribute SEMIO_LUST\n",
      "Replacing [[-1, 9]] to NaN in Attribute SEMIO_MAT\n",
      "Replacing [[-1, 9]] to NaN in Attribute SEMIO_PFLICHT\n",
      "Replacing [[-1, 9]] to NaN in Attribute SEMIO_RAT\n",
      "Replacing [[-1, 9]] to NaN in Attribute SEMIO_REL\n",
      "Replacing [[-1, 9]] to NaN in Attribute SEMIO_SOZ\n",
      "Replacing [[-1, 9]] to NaN in Attribute SEMIO_TRADV\n",
      "Replacing [[-1, 9]] to NaN in Attribute SEMIO_VERT\n",
      "Replacing [[-1]] to NaN in Attribute SHOPPER_TYP\n",
      "Replacing [[-1]] to NaN in Attribute SOHO_FLAG\n",
      "Replacing [[-1, 0]] to NaN in Attribute TITEL_KZ\n",
      "Replacing [[-1]] to NaN in Attribute VERS_TYP\n",
      "Replacing [[-1, 0]] to NaN in Attribute WOHNDAUER_2008\n",
      "Replacing [[-1]] to NaN in Attribute WOHNLAGE\n",
      "Replacing [[-1, 0]] to NaN in Attribute WACHSTUMSGEBIET_NB\n",
      "Replacing [[-1, 0]] to NaN in Attribute W_KEIT_KIND_HH\n",
      "Replacing [[-1, 9]] to NaN in Attribute ZABEOTYP\n"
     ]
    }
   ],
   "source": [
    "customers = replace_unknown_values(customers, attributes_values_unknown, verbose=True)"
   ]
  },
  {
   "cell_type": "markdown",
   "metadata": {},
   "source": [
    "### 0.3 Missing Values"
   ]
  },
  {
   "cell_type": "code",
   "execution_count": 22,
   "metadata": {},
   "outputs": [],
   "source": [
    "# Function to sort columns by share of missing values\n",
    "def get_missing_share_df (df):\n",
    "    ''' Calculate the share of missing values per column and return data frame '''\n",
    "    \n",
    "    missing_share = df.isna().mean().round(4)\n",
    "    df_missing_share = pd.DataFrame({\"Attribute\": df.columns, \"Missing_Share\": missing_share}).reset_index(drop=True)\n",
    "\n",
    "    return df_missing_share"
   ]
  },
  {
   "cell_type": "code",
   "execution_count": 23,
   "metadata": {},
   "outputs": [],
   "source": [
    "def compare_missing_share_plot(df_1, df_2, threshold=0, figsize=(10,70)):\n",
    "    \"\"\"\n",
    "    Takes in two dataframes and plots a barchart comparing two dataframes\n",
    "    features and percentage of missing values based on a threshold percentage given\n",
    "    \"\"\"\n",
    "    fig = plt.figure(figsize=figsize)\n",
    "    fig.suptitle(\"Missing Data per Attribute\")\n",
    "\n",
    "    ax = fig.add_subplot(121)\n",
    "    ax.set_title(\"Azdias\")\n",
    "    sns.barplot(y=\"Attribute\", x=\"Missing_Share\", \n",
    "                data=df_1[df_1.Missing_Share>threshold], ax=ax)\n",
    "\n",
    "    ax = fig.add_subplot(122)\n",
    "    ax.set_title(\"Customer\")\n",
    "    sns.barplot(y=\"Attribute\", x=\"Missing_Share\", \n",
    "                data=df_2[df_2.Missing_Share>threshold], ax=ax)\n",
    "\n",
    "    fig.tight_layout(rect=[0, 0.03, 1, 0.975])\n",
    "\n",
    "    plt.show()"
   ]
  },
  {
   "cell_type": "code",
   "execution_count": 24,
   "metadata": {},
   "outputs": [],
   "source": [
    "azdias_missing_share = get_missing_share_df(azdias)\n",
    "customers_missing_share = get_missing_share_df(customers)"
   ]
  },
  {
   "cell_type": "code",
   "execution_count": 25,
   "metadata": {
    "scrolled": false
   },
   "outputs": [
    {
     "data": {
      "image/png": "[encoded data removed]",
      "text/plain": [
       "<matplotlib.figure.Figure at 0x7f82fbff6a58>"
      ]
     },
     "metadata": {
      "needs_background": "light"
     },
     "output_type": "display_data"
    }
   ],
   "source": [
    "compare_missing_share_plot(azdias_missing_share, customers_missing_share, threshold=0)"
   ]
  },
  {
   "cell_type": "markdown",
   "metadata": {},
   "source": [
    "Here - Some text about the insight."
   ]
  },
  {
   "cell_type": "code",
   "execution_count": 26,
   "metadata": {},
   "outputs": [
    {
     "name": "stdout",
     "output_type": "stream",
     "text": [
      "                       Attribute  Missing_Share\n",
      "264                     TITEL_KZ         0.9976\n",
      "0                       AGER_TYP         0.7602\n",
      "62                  KBA05_BAUMAX         0.5347\n",
      "33   D19_VERSAND_ONLINE_QUOTE_12         0.2885\n",
      "15    D19_BANKEN_ONLINE_QUOTE_12         0.2885\n",
      "22                 D19_KONSUMTYP         0.2885\n",
      "21    D19_GESAMT_ONLINE_QUOTE_12         0.2885\n",
      "224                          KKK         0.1774\n",
      "246                     REGIOTYP         0.1774\n",
      "66                    KBA05_CCM4         0.1662\n",
      "88                   KBA05_MAXBJ         0.1662\n",
      "87                   KBA05_MAXAH         0.1662\n",
      "86                     KBA05_KW3         0.1662\n",
      "85                     KBA05_KW2         0.1662\n",
      "84                     KBA05_KW1         0.1662\n",
      "83                  KBA05_KRSZUL         0.1662\n",
      "82                  KBA05_KRSVAN         0.1662\n",
      "81                 KBA05_KRSOBER         0.1662\n",
      "80                KBA05_KRSKLEIN         0.1662\n",
      "79               KBA05_KRSHERST3         0.1662\n"
     ]
    }
   ],
   "source": [
    "print(azdias_missing_share.sort_values(by='Missing_Share', ascending=False).head(20))"
   ]
  },
  {
   "cell_type": "code",
   "execution_count": 27,
   "metadata": {},
   "outputs": [
    {
     "name": "stdout",
     "output_type": "stream",
     "text": [
      "           Attribute  Missing_Share\n",
      "264         TITEL_KZ         0.9879\n",
      "62      KBA05_BAUMAX         0.5715\n",
      "0           AGER_TYP         0.4806\n",
      "246         REGIOTYP         0.3134\n",
      "224              KKK         0.3134\n",
      "266   W_KEIT_KIND_HH         0.2971\n",
      "55      KBA05_ALTER4         0.2970\n",
      "72      KBA05_HERST3         0.2970\n",
      "81     KBA05_KRSOBER         0.2970\n",
      "80    KBA05_KRSKLEIN         0.2970\n",
      "79   KBA05_KRSHERST3         0.2970\n",
      "78   KBA05_KRSHERST2         0.2970\n",
      "77   KBA05_KRSHERST1         0.2970\n",
      "76    KBA05_KRSAQUOT         0.2970\n",
      "111      KBA05_VORB1         0.2970\n",
      "74      KBA05_HERST5         0.2970\n",
      "73      KBA05_HERST4         0.2970\n",
      "71      KBA05_HERST2         0.2970\n",
      "61    KBA05_AUTOQUOT         0.2970\n",
      "70      KBA05_HERST1         0.2970\n"
     ]
    }
   ],
   "source": [
    "print(customers_missing_share.sort_values(by='Missing_Share', ascending=False).head(20))"
   ]
  },
  {
   "cell_type": "markdown",
   "metadata": {},
   "source": [
    "By looking at the features with the highest share of missing values in each data set a threshold of 30% missing values seems reasonable. "
   ]
  },
  {
   "cell_type": "code",
   "execution_count": 28,
   "metadata": {},
   "outputs": [
    {
     "data": {
      "image/png": "[encoded data removed]",
      "text/plain": [
       "<matplotlib.figure.Figure at 0x7f82eef053c8>"
      ]
     },
     "metadata": {
      "needs_background": "light"
     },
     "output_type": "display_data"
    }
   ],
   "source": [
    "compare_missing_share_plot(azdias_missing_share, customers_missing_share, threshold=0.3, figsize=(10,3))"
   ]
  },
  {
   "cell_type": "code",
   "execution_count": 29,
   "metadata": {},
   "outputs": [],
   "source": [
    "# list with column names to drop\n",
    "removed_features_azdias = azdias_missing_share[azdias_missing_share['Missing_Share'] >= 0.3].Attribute.tolist()\n",
    "removed_features_customers = customers_missing_share[customers_missing_share['Missing_Share'] >= 0.3].Attribute.tolist()\n",
    "removed_features = removed_features_azdias + removed_features_customers\n",
    "\n",
    "# drop column names from azdias and customer (create new dfs as backup)\n",
    "azdias_2 = azdias.drop(removed_features, axis = 1)\n",
    "customers_2 = customers.drop(removed_features, axis = 1)"
   ]
  },
  {
   "cell_type": "markdown",
   "metadata": {},
   "source": [
    "Next, I also want to remove rows with too many missing values. Therefore, I will look at the distribution of rows per number of missing features. I will then choose a threshold of missing values per row. Rows with too many missing values will then be removed."
   ]
  },
  {
   "cell_type": "code",
   "execution_count": 25,
   "metadata": {},
   "outputs": [
    {
     "data": {
      "image/png": "[encoded data removed]",
      "text/plain": [
       "<matplotlib.figure.Figure at 0x7f639b0ded30>"
      ]
     },
     "metadata": {
      "needs_background": "light"
     },
     "output_type": "display_data"
    }
   ],
   "source": [
    "# Plot distribution of Row Count per Number of Missing Features\n",
    "fig = plt.figure(figsize=(10,5))\n",
    "ax = fig.add_subplot(111)\n",
    "ax.set_title(\"Row Count per Number of Missing features\")\n",
    "ax.set_xlabel(\"Number of Missing Features\")\n",
    "ax.set_ylabel(\"Row Count\")\n",
    "sns.distplot(azdias.isnull().sum(axis=1), 50, kde=False, ax=ax, label=\"Azdias\")\n",
    "sns.distplot(customers.isnull().sum(axis=1), 50, kde=False, ax=ax, label=\"Customers\")\n",
    "ax.legend()\n",
    "plt.show()"
   ]
  },
  {
   "cell_type": "markdown",
   "metadata": {},
   "source": [
    "The chart shows that the vast majority of rows have less than 50 missing features for both data sets. Also, a good chunk of rows have even 200 missing values or more. Therefore, I will remove every row with more than 50 missing values. "
   ]
  },
  {
   "cell_type": "code",
   "execution_count": 26,
   "metadata": {},
   "outputs": [],
   "source": [
    "# Remove rows with more than 50 missing values\n",
    "azdias_2 = azdias_2.dropna(thresh=azdias_2.shape[1]-50)\n",
    "customers_2 = customers_2.dropna(thresh=customers_2.shape[1]-50)"
   ]
  },
  {
   "cell_type": "markdown",
   "metadata": {},
   "source": [
    "### 0.4 Categorical Values"
   ]
  },
  {
   "cell_type": "code",
   "execution_count": 27,
   "metadata": {},
   "outputs": [
    {
     "name": "stdout",
     "output_type": "stream",
     "text": [
      "<class 'pandas.core.frame.DataFrame'>\n",
      "Int64Index: 737288 entries, 1 to 891220\n",
      "Columns: 267 entries, ALTER_HH to ALTERSKATEGORIE_GROB\n",
      "dtypes: float64(217), int64(48), object(2)\n",
      "memory usage: 1.5+ GB\n",
      "None\n",
      "<class 'pandas.core.frame.DataFrame'>\n",
      "Int64Index: 134246 entries, 0 to 191651\n",
      "Columns: 267 entries, ALTER_HH to ALTERSKATEGORIE_GROB\n",
      "dtypes: float64(217), int64(48), object(2)\n",
      "memory usage: 274.5+ MB\n",
      "None\n"
     ]
    }
   ],
   "source": [
    "# How many categorical columns are there?\n",
    "print(azdias_2.info())\n",
    "print(customers_2.info())"
   ]
  },
  {
   "cell_type": "code",
   "execution_count": 28,
   "metadata": {},
   "outputs": [
    {
     "name": "stdout",
     "output_type": "stream",
     "text": [
      "Index(['CAMEO_DEU_2015', 'OST_WEST_KZ'], dtype='object')\n",
      "Index(['CAMEO_DEU_2015', 'OST_WEST_KZ'], dtype='object')\n"
     ]
    }
   ],
   "source": [
    "# Print object colmns\n",
    "print(azdias_2.columns[azdias_2.dtypes == \"object\"])\n",
    "print(customers_2.columns[customers_2.dtypes == \"object\"])"
   ]
  },
  {
   "cell_type": "code",
   "execution_count": 29,
   "metadata": {},
   "outputs": [
    {
     "name": "stdout",
     "output_type": "stream",
     "text": [
      "['8A' '4C' '2A' '6B' '8C' '4A' '2D' '1A' '1E' '9D' '7A' '5D' '9E' '5C' '9B'\n",
      " '1B' '8B' '3D' nan '4E' '4B' '3C' '5A' '7B' '9A' '6E' '6D' '2C' '7C' '9C'\n",
      " '7D' '5E' '1D' '8D' '6C' '6A' '5B' '4D' '3A' '2B' '7E' '3B' '6F' '5F' '1C'\n",
      " 'XX']\n",
      "['W' 'O']\n"
     ]
    }
   ],
   "source": [
    "# Print unique values\n",
    "print(azdias_2['CAMEO_DEU_2015'].unique())\n",
    "print(azdias_2['OST_WEST_KZ'].unique())"
   ]
  },
  {
   "cell_type": "markdown",
   "metadata": {},
   "source": [
    "The first feature (CAMEO_DEU_2015) has a high number of unique values. This granularity would result in too many new features when converted to dummy variables. Hence, I will remove this feature.\n",
    "\n",
    "The second feature (OST_WEST_KZ) will be converted to a binary feature."
   ]
  },
  {
   "cell_type": "code",
   "execution_count": 31,
   "metadata": {},
   "outputs": [],
   "source": [
    "# Remove feature\n",
    "azdias_2 = azdias.drop(['CAMEO_DEU_2015'], axis = 1)\n",
    "customers_2 = customers.drop(['CAMEO_DEU_2015'], axis = 1)"
   ]
  },
  {
   "cell_type": "code",
   "execution_count": 32,
   "metadata": {},
   "outputs": [],
   "source": [
    "# Convert to binary\n",
    "azdias_2[\"OST_WEST_KZ\"] = azdias_2[\"OST_WEST_KZ\"].replace({\"W\": 0, \"O\": 1})\n",
    "customers_2[\"OST_WEST_KZ\"] = customers_2[\"OST_WEST_KZ\"].replace({\"W\": 0, \"O\": 1})"
   ]
  },
  {
   "cell_type": "markdown",
   "metadata": {},
   "source": [
    "### 0.5 Imputing missing values"
   ]
  },
  {
   "cell_type": "markdown",
   "metadata": {},
   "source": [
    "Next, I am going to impute the left missing values with the mode of each feature (~ the most common value)."
   ]
  },
  {
   "cell_type": "code",
   "execution_count": 33,
   "metadata": {},
   "outputs": [],
   "source": [
    "# Imputing the mode\n",
    "imputation = Imputer(strategy=\"most_frequent\")\n",
    "azdias_3 = pd.DataFrame(imputation.fit_transform(azdias_2), columns = azdias_2.columns)\n",
    "customers_3 = pd.DataFrame(imputation.transform(customers_2), columns = customers_2.columns)"
   ]
  },
  {
   "cell_type": "code",
   "execution_count": 34,
   "metadata": {},
   "outputs": [
    {
     "data": {
      "text/plain": [
       "AGER_TYP                      0\n",
       "ALTER_HH                      0\n",
       "ANZ_HAUSHALTE_AKTIV           0\n",
       "ANZ_HH_TITEL                  0\n",
       "ANZ_PERSONEN                  0\n",
       "ANZ_TITEL                     0\n",
       "BALLRAUM                      0\n",
       "CAMEO_DEUG_2015               0\n",
       "CJT_GESAMTTYP                 0\n",
       "D19_BANKEN_ANZ_12             0\n",
       "D19_BANKEN_ANZ_24             0\n",
       "D19_BANKEN_DATUM              0\n",
       "D19_BANKEN_OFFLINE_DATUM      0\n",
       "D19_BANKEN_ONLINE_DATUM       0\n",
       "D19_BANKEN_ONLINE_QUOTE_12    0\n",
       "D19_GESAMT_ANZ_12             0\n",
       "D19_GESAMT_ANZ_24             0\n",
       "D19_GESAMT_DATUM              0\n",
       "D19_GESAMT_OFFLINE_DATUM      0\n",
       "D19_GESAMT_ONLINE_DATUM       0\n",
       "D19_GESAMT_ONLINE_QUOTE_12    0\n",
       "D19_KONSUMTYP                 0\n",
       "D19_TELKO_ANZ_12              0\n",
       "D19_TELKO_ANZ_24              0\n",
       "D19_TELKO_DATUM               0\n",
       "D19_TELKO_OFFLINE_DATUM       0\n",
       "D19_TELKO_ONLINE_DATUM        0\n",
       "D19_VERSAND_ANZ_12            0\n",
       "D19_VERSAND_ANZ_24            0\n",
       "D19_VERSAND_DATUM             0\n",
       "                             ..\n",
       "PLZ8_BAUMAX                   0\n",
       "PLZ8_GBZ                      0\n",
       "PLZ8_HHZ                      0\n",
       "PRAEGENDE_JUGENDJAHRE         0\n",
       "REGIOTYP                      0\n",
       "RELAT_AB                      0\n",
       "RETOURTYP_BK_S                0\n",
       "SEMIO_DOM                     0\n",
       "SEMIO_ERL                     0\n",
       "SEMIO_FAM                     0\n",
       "SEMIO_KAEM                    0\n",
       "SEMIO_KRIT                    0\n",
       "SEMIO_KULT                    0\n",
       "SEMIO_LUST                    0\n",
       "SEMIO_MAT                     0\n",
       "SEMIO_PFLICHT                 0\n",
       "SEMIO_RAT                     0\n",
       "SEMIO_REL                     0\n",
       "SEMIO_SOZ                     0\n",
       "SEMIO_TRADV                   0\n",
       "SEMIO_VERT                    0\n",
       "SHOPPER_TYP                   0\n",
       "TITEL_KZ                      0\n",
       "VERS_TYP                      0\n",
       "W_KEIT_KIND_HH                0\n",
       "WOHNDAUER_2008                0\n",
       "WOHNLAGE                      0\n",
       "ZABEOTYP                      0\n",
       "ANREDE_KZ                     0\n",
       "ALTERSKATEGORIE_GROB          0\n",
       "Length: 271, dtype: int64"
      ]
     },
     "execution_count": 34,
     "metadata": {},
     "output_type": "execute_result"
    }
   ],
   "source": [
    "# Check if all null values are imputed\n",
    "azdias_3.isnull().sum(axis = 0)"
   ]
  },
  {
   "cell_type": "markdown",
   "metadata": {},
   "source": [
    "### 0.6 Feature Scaling"
   ]
  },
  {
   "cell_type": "markdown",
   "metadata": {},
   "source": [
    "Now I am going to scale the features in order to make sure that all feature contribute equally to the results."
   ]
  },
  {
   "cell_type": "code",
   "execution_count": 37,
   "metadata": {},
   "outputs": [],
   "source": [
    "# Scaling the features\n",
    "scaling = MinMaxScaler()\n",
    "scaling.fit(azdias_3)\n",
    "azdias_scaled = pd.DataFrame(scaling.transform(azdias_3), columns = azdias_3.columns)\n",
    "customers_scaled = pd.DataFrame(scaling.transform(customers_3), columns = customers_3.columns)"
   ]
  },
  {
   "cell_type": "code",
   "execution_count": 39,
   "metadata": {},
   "outputs": [],
   "source": [
    "# Save data\n",
    "azdias_scaled.to_csv('Azdias_scaled.csv', index=False)\n",
    "customers_scaled.to_csv('Customers_scaled.csv', index=False)"
   ]
  },
  {
   "cell_type": "code",
   "execution_count": 25,
   "metadata": {},
   "outputs": [],
   "source": [
    "# Import scaled data\n",
    "#azdias_scaled = pd.read_csv('./Azdias_scaled.csv')\n",
    "#customers_scaled = pd.read_csv('./Customers_scaled.csv')"
   ]
  },
  {
   "cell_type": "markdown",
   "metadata": {},
   "source": [
    "## Part 1: Customer Segmentation Report\n",
    "\n",
    "The main bulk of your analysis will come in this part of the project. Here, you should use unsupervised learning techniques to describe the relationship between the demographics of the company's existing customers and the general population of Germany. By the end of this part, you should be able to describe parts of the general population that are more likely to be part of the mail-order company's main customer base, and which parts of the general population are less so."
   ]
  },
  {
   "cell_type": "code",
   "execution_count": 27,
   "metadata": {},
   "outputs": [],
   "source": [
    "# due to too large data resulting in enormous processing times I picked samples of azdias and customers (large enough)\n",
    "azdias_scaled_sample = azdias_scaled.sample(n=200000, random_state=123)\n",
    "customers_scaled_sample = customers_scaled.sample(n=100000, random_state=123)"
   ]
  },
  {
   "cell_type": "markdown",
   "metadata": {},
   "source": [
    "### 1.1 Dimensionality Reduction"
   ]
  },
  {
   "cell_type": "markdown",
   "metadata": {},
   "source": [
    "Due to the high number of features, the goal here is to reduce these to only include the most meaningful ones. To determine the number of features I am going to use the azdias data which covers the population."
   ]
  },
  {
   "cell_type": "code",
   "execution_count": 29,
   "metadata": {},
   "outputs": [],
   "source": [
    "# Function for building the pca model\n",
    "def build_pca_model(df, n_components=None):\n",
    "    ''' This function takes the data and number of components\n",
    "    and returns the PCA model and transformed data '''\n",
    "    pca = PCA(n_components)\n",
    "    df_transformed = pca.fit_transform(df)\n",
    "    return pca, df_transformed"
   ]
  },
  {
   "cell_type": "code",
   "execution_count": 30,
   "metadata": {},
   "outputs": [],
   "source": [
    "# Building the pca model\n",
    "azdias_pca_model, azdias_pca_transformed = build_pca_model(azdias_scaled_sample)"
   ]
  },
  {
   "cell_type": "code",
   "execution_count": 31,
   "metadata": {},
   "outputs": [
    {
     "data": {
      "image/png": "[encoded data removed]",
      "text/plain": [
       "<matplotlib.figure.Figure at 0x7fdafc878160>"
      ]
     },
     "metadata": {
      "needs_background": "light"
     },
     "output_type": "display_data"
    }
   ],
   "source": [
    "# Function to plot the share of explained variance by number of components\n",
    "def plot_explained_variance(pca_mdl):\n",
    "    ''' This function takes the pca model and plots the explained variance by the number of components '''\n",
    "    explained_variance = np.cumsum(pca_mdl.explained_variance_ratio_)\n",
    "    plt.plot(explained_variance)\n",
    "    plt.xlabel('Number of Components')\n",
    "    plt.ylabel('Share of Explained Variance')\n",
    "    plt.title('Explained Variance by Number of Components')\n",
    "    plt.grid(b=True)\n",
    "    plot = plt.show()\n",
    "\n",
    "# Plot    \n",
    "plot_explained_variance(azdias_pca_model)"
   ]
  },
  {
   "cell_type": "markdown",
   "metadata": {},
   "source": [
    "Based on the chart I can conclude that rougly 125 components explain about 90% of the variance. Therefore, I will continue modelling with 125 components."
   ]
  },
  {
   "cell_type": "code",
   "execution_count": 32,
   "metadata": {},
   "outputs": [],
   "source": [
    "# Build PCA model with 125 components and return transformed data\n",
    "azdias_pca_model, azdias_pca_transformed_125components = build_pca_model(azdias_scaled_sample, 125)\n",
    "customers_pca_model, customers_pca_transformed_125components = build_pca_model(customers_scaled_sample, 125)"
   ]
  },
  {
   "cell_type": "markdown",
   "metadata": {},
   "source": [
    "### 1.2 Customer Segmentation"
   ]
  },
  {
   "cell_type": "markdown",
   "metadata": {},
   "source": [
    "Next we are going to choose a suitable number of clusters and then finally cluster the data. "
   ]
  },
  {
   "cell_type": "code",
   "execution_count": 33,
   "metadata": {},
   "outputs": [
    {
     "data": {
      "image/png": "[encoded data removed]",
      "text/plain": [
       "<matplotlib.figure.Figure at 0x7fdafc8c1cc0>"
      ]
     },
     "metadata": {
      "needs_background": "light"
     },
     "output_type": "display_data"
    }
   ],
   "source": [
    "# Function to plot the elbow curve\n",
    "def plot_elbow_curve(df, cluster_range=range(2,20)):\n",
    "    ''' This function takes the provided data \n",
    "    and plots the average distance to the cluster centroid\n",
    "    for an increasing number of clusters \n",
    "    in order to determine the most suitable number of clusters\n",
    "    '''\n",
    "    points = np.array([])\n",
    "    K = cluster_range\n",
    "    for k in K:      \n",
    "        kmeans = KMeans(k)\n",
    "        km = kmeans.fit(df)\n",
    "        points = np.append(points, np.abs(km.score(df))) \n",
    "    plt.plot(K, points, 'bx-')\n",
    "    plt.xlabel('Number of Clusters')\n",
    "    plt.ylabel('Average distance to cluster centroid')\n",
    "    plt.title('Elbow Curve')\n",
    "    plt.show()\n",
    "\n",
    "# Plot\n",
    "plot_elbow_curve(azdias_pca_transformed_125components)"
   ]
  },
  {
   "cell_type": "markdown",
   "metadata": {},
   "source": [
    "Based on the elbow chart, 9 clusters seems to be a reasonable number of clusters. Next we are going to cluster the data."
   ]
  },
  {
   "cell_type": "code",
   "execution_count": 34,
   "metadata": {},
   "outputs": [],
   "source": [
    "# Function to train kmeans model\n",
    "def kmeans_modelling(df, clusters):\n",
    "    ''' This function takes the provided data and returns a kmeans model and the kmeans transformed data '''\n",
    "    kmeans_mdl = KMeans(clusters, random_state=123)\n",
    "    kmeans_predictions = kmeans_mdl.fit_predict(df)\n",
    "    return kmeans_mdl, kmeans_predictions\n",
    "\n",
    "# Cluster data\n",
    "azdias_kmeans_model, azdias_kmeans_predictions = kmeans_modelling(azdias_pca_transformed_125components, 9)\n",
    "customers_kmeans_model, customers_kmeans_predictions = kmeans_modelling(customers_pca_transformed_125components, 9)"
   ]
  },
  {
   "cell_type": "markdown",
   "metadata": {},
   "source": [
    "### 1.3 Segmentation Results"
   ]
  },
  {
   "cell_type": "markdown",
   "metadata": {},
   "source": [
    "Lastly, we are going analyse the clusters and compare the general population with the customer base. "
   ]
  },
  {
   "cell_type": "code",
   "execution_count": 35,
   "metadata": {},
   "outputs": [
    {
     "name": "stdout",
     "output_type": "stream",
     "text": [
      "   Azdias  Customers  azdias_share  customers_share\n",
      "0   18438      10668         0.092            0.107\n",
      "1   15958      24254         0.080            0.243\n",
      "2   18063       6578         0.090            0.066\n",
      "3   29733       6572         0.149            0.066\n",
      "4   20673      11701         0.103            0.117\n",
      "5   16839       9960         0.084            0.100\n",
      "6   24852      10511         0.124            0.105\n",
      "7   25516       9097         0.128            0.091\n",
      "8   29928      10659         0.150            0.107\n"
     ]
    },
    {
     "data": {
      "text/plain": [
       "<matplotlib.axes._subplots.AxesSubplot at 0x7fdaeb8abda0>"
      ]
     },
     "execution_count": 35,
     "metadata": {},
     "output_type": "execute_result"
    },
    {
     "data": {
      "image/png": "[encoded data removed]",
      "text/plain": [
       "<matplotlib.figure.Figure at 0x7fdaeb902ef0>"
      ]
     },
     "metadata": {
      "needs_background": "light"
     },
     "output_type": "display_data"
    }
   ],
   "source": [
    "# Compare cluster attribution between poplaton and customers\n",
    "azdias_kmeans_predictions = pd.Series(azdias_kmeans_predictions, name='Azdias')\n",
    "customers_kmeans_predictions = pd.Series(customers_kmeans_predictions, name='Customers')\n",
    "\n",
    "clusters_data = pd.concat([azdias_kmeans_predictions.value_counts().sort_index(), \n",
    "                         customers_kmeans_predictions.value_counts().sort_index()], axis=1)\n",
    "\n",
    "clusters_data = clusters_data.assign(azdias_share=lambda x: round((x.Azdias / clusters_data.Azdias.sum()),3))\n",
    "clusters_data = clusters_data.assign(customers_share=lambda x: round((x.Customers / clusters_data.Customers.sum()),3))\n",
    "\n",
    "# Print results\n",
    "print(clusters_data)\n",
    "\n",
    "# Plot results\n",
    "clusters_data[['azdias_share', 'customers_share']].plot(figsize=(15,10), kind = 'bar')"
   ]
  },
  {
   "cell_type": "markdown",
   "metadata": {},
   "source": [
    "Based on the chart we can clearly see that those in the population that are placed in cluster 1 are more likely to be Arvato customers, compared to the rest of the clusters. Those in the population that are placed in cluster 3 on the other hand are however seem to be less likely to become Arvato customers."
   ]
  },
  {
   "cell_type": "code",
   "execution_count": 36,
   "metadata": {},
   "outputs": [],
   "source": [
    "# Function to describe clusters\n",
    "def cluster_description(df, pca_mdl, kmeans_mdl, cluster_n):\n",
    "    ''' This function takes the data, pca model, kmeans model, chosen cluster \n",
    "    and returns the cluster centres for each feature '''\n",
    "    \n",
    "    cluster_dict = dict(zip(df.columns, pca_mdl.inverse_transform(kmeans_mdl.cluster_centers_[cluster_n])))\n",
    "    cluster_description = pd.DataFrame.from_dict(cluster_dict, orient='index', columns=[cluster_n])\n",
    "    \n",
    "    # select specific features that are easy to interpret the cluster\n",
    "    features = ['ALTERSKATEGORIE_GROB', 'ANREDE_KZ', 'OST_WEST_KZ', 'BALLRAUM', 'CAMEO_DEUG_2015', 'D19_BANKEN_ANZ_12',\n",
    "              'D19_VERSI_ANZ_12', 'EWDICHTE', 'FINANZTYP', 'KBA13_ANZAHL_PKW', 'KBA13_KRSZUL_NEU', 'LP_FAMILIE_FEIN',\n",
    "               'LP_LEBENSPHASE_FEIN', 'LP_STATUS_FEIN', 'MOBI_REGIO', 'ONLINE_AFFINITAET', 'REGIOTYP']\n",
    "    cluster_description = cluster_description.loc[features]\n",
    "    \n",
    "    return cluster_description"
   ]
  },
  {
   "cell_type": "code",
   "execution_count": 37,
   "metadata": {},
   "outputs": [
    {
     "data": {
      "text/html": [
       "<div>\n",
       "<style scoped>\n",
       "    .dataframe tbody tr th:only-of-type {\n",
       "        vertical-align: middle;\n",
       "    }\n",
       "\n",
       "    .dataframe tbody tr th {\n",
       "        vertical-align: top;\n",
       "    }\n",
       "\n",
       "    .dataframe thead th {\n",
       "        text-align: right;\n",
       "    }\n",
       "</style>\n",
       "<table border=\"1\" class=\"dataframe\">\n",
       "  <thead>\n",
       "    <tr style=\"text-align: right;\">\n",
       "      <th></th>\n",
       "      <th>0</th>\n",
       "      <th>1</th>\n",
       "      <th>2</th>\n",
       "      <th>3</th>\n",
       "      <th>4</th>\n",
       "      <th>5</th>\n",
       "      <th>6</th>\n",
       "      <th>7</th>\n",
       "      <th>8</th>\n",
       "    </tr>\n",
       "  </thead>\n",
       "  <tbody>\n",
       "    <tr>\n",
       "      <th>ALTERSKATEGORIE_GROB</th>\n",
       "      <td>0.314709</td>\n",
       "      <td>0.089407</td>\n",
       "      <td>0.275453</td>\n",
       "      <td>0.314470</td>\n",
       "      <td>0.332919</td>\n",
       "      <td>0.300592</td>\n",
       "      <td>0.295102</td>\n",
       "      <td>0.328857</td>\n",
       "      <td>0.319958</td>\n",
       "    </tr>\n",
       "    <tr>\n",
       "      <th>ANREDE_KZ</th>\n",
       "      <td>0.520560</td>\n",
       "      <td>0.518538</td>\n",
       "      <td>0.429443</td>\n",
       "      <td>0.330946</td>\n",
       "      <td>-0.000798</td>\n",
       "      <td>0.191092</td>\n",
       "      <td>0.293920</td>\n",
       "      <td>1.002497</td>\n",
       "      <td>0.034715</td>\n",
       "    </tr>\n",
       "    <tr>\n",
       "      <th>OST_WEST_KZ</th>\n",
       "      <td>0.163971</td>\n",
       "      <td>0.001516</td>\n",
       "      <td>0.166576</td>\n",
       "      <td>0.042023</td>\n",
       "      <td>0.032693</td>\n",
       "      <td>0.032962</td>\n",
       "      <td>0.094459</td>\n",
       "      <td>0.052951</td>\n",
       "      <td>0.052318</td>\n",
       "    </tr>\n",
       "    <tr>\n",
       "      <th>BALLRAUM</th>\n",
       "      <td>0.408922</td>\n",
       "      <td>0.833085</td>\n",
       "      <td>0.449159</td>\n",
       "      <td>0.303861</td>\n",
       "      <td>0.524549</td>\n",
       "      <td>0.485963</td>\n",
       "      <td>0.755539</td>\n",
       "      <td>0.633578</td>\n",
       "      <td>0.748201</td>\n",
       "    </tr>\n",
       "    <tr>\n",
       "      <th>CAMEO_DEUG_2015</th>\n",
       "      <td>0.742528</td>\n",
       "      <td>0.875171</td>\n",
       "      <td>0.682027</td>\n",
       "      <td>0.307616</td>\n",
       "      <td>0.318572</td>\n",
       "      <td>0.276581</td>\n",
       "      <td>0.344890</td>\n",
       "      <td>0.380751</td>\n",
       "      <td>0.418232</td>\n",
       "    </tr>\n",
       "    <tr>\n",
       "      <th>D19_BANKEN_ANZ_12</th>\n",
       "      <td>0.003907</td>\n",
       "      <td>0.000197</td>\n",
       "      <td>0.034406</td>\n",
       "      <td>0.017188</td>\n",
       "      <td>0.008418</td>\n",
       "      <td>0.044654</td>\n",
       "      <td>0.046469</td>\n",
       "      <td>0.006536</td>\n",
       "      <td>0.005708</td>\n",
       "    </tr>\n",
       "    <tr>\n",
       "      <th>D19_VERSI_ANZ_12</th>\n",
       "      <td>0.005406</td>\n",
       "      <td>-0.000594</td>\n",
       "      <td>0.028302</td>\n",
       "      <td>0.017903</td>\n",
       "      <td>0.016130</td>\n",
       "      <td>0.035331</td>\n",
       "      <td>0.047630</td>\n",
       "      <td>0.013038</td>\n",
       "      <td>0.019500</td>\n",
       "    </tr>\n",
       "    <tr>\n",
       "      <th>EWDICHTE</th>\n",
       "      <td>0.829682</td>\n",
       "      <td>0.996442</td>\n",
       "      <td>0.808101</td>\n",
       "      <td>0.817667</td>\n",
       "      <td>0.628340</td>\n",
       "      <td>0.634840</td>\n",
       "      <td>0.282565</td>\n",
       "      <td>0.500221</td>\n",
       "      <td>0.348663</td>\n",
       "    </tr>\n",
       "    <tr>\n",
       "      <th>FINANZTYP</th>\n",
       "      <td>0.698477</td>\n",
       "      <td>0.596437</td>\n",
       "      <td>0.628910</td>\n",
       "      <td>0.707564</td>\n",
       "      <td>0.672361</td>\n",
       "      <td>0.666719</td>\n",
       "      <td>0.659925</td>\n",
       "      <td>0.488336</td>\n",
       "      <td>0.574642</td>\n",
       "    </tr>\n",
       "    <tr>\n",
       "      <th>KBA13_ANZAHL_PKW</th>\n",
       "      <td>0.259336</td>\n",
       "      <td>0.604216</td>\n",
       "      <td>0.297869</td>\n",
       "      <td>0.254834</td>\n",
       "      <td>0.305637</td>\n",
       "      <td>0.311136</td>\n",
       "      <td>0.313287</td>\n",
       "      <td>0.318943</td>\n",
       "      <td>0.330461</td>\n",
       "    </tr>\n",
       "    <tr>\n",
       "      <th>KBA13_KRSZUL_NEU</th>\n",
       "      <td>0.620565</td>\n",
       "      <td>0.666763</td>\n",
       "      <td>0.626711</td>\n",
       "      <td>0.802828</td>\n",
       "      <td>0.703386</td>\n",
       "      <td>0.728509</td>\n",
       "      <td>0.606754</td>\n",
       "      <td>0.666590</td>\n",
       "      <td>0.614979</td>\n",
       "    </tr>\n",
       "    <tr>\n",
       "      <th>LP_FAMILIE_FEIN</th>\n",
       "      <td>0.227032</td>\n",
       "      <td>0.074468</td>\n",
       "      <td>0.438831</td>\n",
       "      <td>0.414409</td>\n",
       "      <td>0.482991</td>\n",
       "      <td>0.720183</td>\n",
       "      <td>0.741554</td>\n",
       "      <td>0.376744</td>\n",
       "      <td>0.412941</td>\n",
       "    </tr>\n",
       "    <tr>\n",
       "      <th>LP_LEBENSPHASE_FEIN</th>\n",
       "      <td>0.274492</td>\n",
       "      <td>0.083558</td>\n",
       "      <td>0.461996</td>\n",
       "      <td>0.517584</td>\n",
       "      <td>0.616243</td>\n",
       "      <td>0.784439</td>\n",
       "      <td>0.779022</td>\n",
       "      <td>0.504063</td>\n",
       "      <td>0.531971</td>\n",
       "    </tr>\n",
       "    <tr>\n",
       "      <th>LP_STATUS_FEIN</th>\n",
       "      <td>0.129232</td>\n",
       "      <td>0.469513</td>\n",
       "      <td>0.310503</td>\n",
       "      <td>0.653414</td>\n",
       "      <td>0.886643</td>\n",
       "      <td>0.875205</td>\n",
       "      <td>0.833367</td>\n",
       "      <td>0.767863</td>\n",
       "      <td>0.784493</td>\n",
       "    </tr>\n",
       "    <tr>\n",
       "      <th>MOBI_REGIO</th>\n",
       "      <td>0.141907</td>\n",
       "      <td>0.002235</td>\n",
       "      <td>0.195426</td>\n",
       "      <td>0.475414</td>\n",
       "      <td>0.627530</td>\n",
       "      <td>0.625451</td>\n",
       "      <td>0.624935</td>\n",
       "      <td>0.579835</td>\n",
       "      <td>0.555370</td>\n",
       "    </tr>\n",
       "    <tr>\n",
       "      <th>ONLINE_AFFINITAET</th>\n",
       "      <td>0.330967</td>\n",
       "      <td>0.426612</td>\n",
       "      <td>0.763144</td>\n",
       "      <td>0.564516</td>\n",
       "      <td>0.500367</td>\n",
       "      <td>0.849317</td>\n",
       "      <td>0.857052</td>\n",
       "      <td>0.464521</td>\n",
       "      <td>0.465399</td>\n",
       "    </tr>\n",
       "    <tr>\n",
       "      <th>REGIOTYP</th>\n",
       "      <td>0.653904</td>\n",
       "      <td>0.833784</td>\n",
       "      <td>0.658352</td>\n",
       "      <td>0.245007</td>\n",
       "      <td>0.413676</td>\n",
       "      <td>0.406466</td>\n",
       "      <td>0.631294</td>\n",
       "      <td>0.518986</td>\n",
       "      <td>0.639701</td>\n",
       "    </tr>\n",
       "  </tbody>\n",
       "</table>\n",
       "</div>"
      ],
      "text/plain": [
       "                             0         1         2         3         4  \\\n",
       "ALTERSKATEGORIE_GROB  0.314709  0.089407  0.275453  0.314470  0.332919   \n",
       "ANREDE_KZ             0.520560  0.518538  0.429443  0.330946 -0.000798   \n",
       "OST_WEST_KZ           0.163971  0.001516  0.166576  0.042023  0.032693   \n",
       "BALLRAUM              0.408922  0.833085  0.449159  0.303861  0.524549   \n",
       "CAMEO_DEUG_2015       0.742528  0.875171  0.682027  0.307616  0.318572   \n",
       "D19_BANKEN_ANZ_12     0.003907  0.000197  0.034406  0.017188  0.008418   \n",
       "D19_VERSI_ANZ_12      0.005406 -0.000594  0.028302  0.017903  0.016130   \n",
       "EWDICHTE              0.829682  0.996442  0.808101  0.817667  0.628340   \n",
       "FINANZTYP             0.698477  0.596437  0.628910  0.707564  0.672361   \n",
       "KBA13_ANZAHL_PKW      0.259336  0.604216  0.297869  0.254834  0.305637   \n",
       "KBA13_KRSZUL_NEU      0.620565  0.666763  0.626711  0.802828  0.703386   \n",
       "LP_FAMILIE_FEIN       0.227032  0.074468  0.438831  0.414409  0.482991   \n",
       "LP_LEBENSPHASE_FEIN   0.274492  0.083558  0.461996  0.517584  0.616243   \n",
       "LP_STATUS_FEIN        0.129232  0.469513  0.310503  0.653414  0.886643   \n",
       "MOBI_REGIO            0.141907  0.002235  0.195426  0.475414  0.627530   \n",
       "ONLINE_AFFINITAET     0.330967  0.426612  0.763144  0.564516  0.500367   \n",
       "REGIOTYP              0.653904  0.833784  0.658352  0.245007  0.413676   \n",
       "\n",
       "                             5         6         7         8  \n",
       "ALTERSKATEGORIE_GROB  0.300592  0.295102  0.328857  0.319958  \n",
       "ANREDE_KZ             0.191092  0.293920  1.002497  0.034715  \n",
       "OST_WEST_KZ           0.032962  0.094459  0.052951  0.052318  \n",
       "BALLRAUM              0.485963  0.755539  0.633578  0.748201  \n",
       "CAMEO_DEUG_2015       0.276581  0.344890  0.380751  0.418232  \n",
       "D19_BANKEN_ANZ_12     0.044654  0.046469  0.006536  0.005708  \n",
       "D19_VERSI_ANZ_12      0.035331  0.047630  0.013038  0.019500  \n",
       "EWDICHTE              0.634840  0.282565  0.500221  0.348663  \n",
       "FINANZTYP             0.666719  0.659925  0.488336  0.574642  \n",
       "KBA13_ANZAHL_PKW      0.311136  0.313287  0.318943  0.330461  \n",
       "KBA13_KRSZUL_NEU      0.728509  0.606754  0.666590  0.614979  \n",
       "LP_FAMILIE_FEIN       0.720183  0.741554  0.376744  0.412941  \n",
       "LP_LEBENSPHASE_FEIN   0.784439  0.779022  0.504063  0.531971  \n",
       "LP_STATUS_FEIN        0.875205  0.833367  0.767863  0.784493  \n",
       "MOBI_REGIO            0.625451  0.624935  0.579835  0.555370  \n",
       "ONLINE_AFFINITAET     0.849317  0.857052  0.464521  0.465399  \n",
       "REGIOTYP              0.406466  0.631294  0.518986  0.639701  "
      ]
     },
     "execution_count": 37,
     "metadata": {},
     "output_type": "execute_result"
    }
   ],
   "source": [
    "# apply cluster description function to describe clusters based on selected features\n",
    "cluster_table = cluster_description(customers_scaled_sample, customers_pca_model, customers_kmeans_model, 0)\n",
    "for k in range(1,9):\n",
    "    cluster_info = cluster_description(customers_scaled_sample, customers_pca_model, customers_kmeans_model, k)\n",
    "    cluster_table = cluster_table.join(cluster_info)\n",
    "cluster_table"
   ]
  },
  {
   "cell_type": "markdown",
   "metadata": {},
   "source": [
    "### The Typical Customer\n",
    "Based on cluster 1, the typical customer of Arvato has the following features\n",
    "- is relatively young and lives in a single household\n",
    "- is from West Germany\n",
    "- is either male or female (no gender preference)\n",
    "- is from the working class and lives in a low class, high population density neighbourhood\n",
    "- has a relatively low online affinity\n",
    "- has a relatively low banking transaction acitivity and a rather low financial interest\n",
    "\n",
    "Cluster 3 is largely the opposite of this description. Parts of the population that are placed in cluster 3 are less likely to be Arvato customers."
   ]
  },
  {
   "cell_type": "markdown",
   "metadata": {},
   "source": [
    "## Part 2: Supervised Learning Model\n",
    "\n",
    "Now that you've found which parts of the population are more likely to be customers of the mail-order company, it's time to build a prediction model. Each of the rows in the \"MAILOUT\" data files represents an individual that was targeted for a mailout campaign. Ideally, we should be able to use the demographic information from each individual to decide whether or not it will be worth it to include that person in the campaign.\n",
    "\n",
    "The \"MAILOUT\" data has been split into two approximately equal parts, each with almost 43 000 data rows. In this part, you can verify your model with the \"TRAIN\" partition, which includes a column, \"RESPONSE\", that states whether or not a person became a customer of the company following the campaign. In the next part, you'll need to create predictions on the \"TEST\" partition, where the \"RESPONSE\" column has been withheld."
   ]
  },
  {
   "cell_type": "code",
   "execution_count": 44,
   "metadata": {},
   "outputs": [
    {
     "name": "stderr",
     "output_type": "stream",
     "text": [
      "/opt/conda/lib/python3.6/site-packages/IPython/core/interactiveshell.py:2785: DtypeWarning: Columns (18,19) have mixed types. Specify dtype option on import or set low_memory=False.\n",
      "  interactivity=interactivity, compiler=compiler, result=result)\n"
     ]
    }
   ],
   "source": [
    "# Load in the data\n",
    "mailout_train = pd.read_csv('../../data/Term2/capstone/arvato_data/Udacity_MAILOUT_052018_TRAIN.csv', sep=';')\n",
    "mailout_test = pd.read_csv('../../data/Term2/capstone/arvato_data/Udacity_MAILOUT_052018_TEST.csv', sep=';')"
   ]
  },
  {
   "cell_type": "code",
   "execution_count": 5,
   "metadata": {},
   "outputs": [
    {
     "data": {
      "text/html": [
       "<div>\n",
       "<style scoped>\n",
       "    .dataframe tbody tr th:only-of-type {\n",
       "        vertical-align: middle;\n",
       "    }\n",
       "\n",
       "    .dataframe tbody tr th {\n",
       "        vertical-align: top;\n",
       "    }\n",
       "\n",
       "    .dataframe thead th {\n",
       "        text-align: right;\n",
       "    }\n",
       "</style>\n",
       "<table border=\"1\" class=\"dataframe\">\n",
       "  <thead>\n",
       "    <tr style=\"text-align: right;\">\n",
       "      <th></th>\n",
       "      <th>LNR</th>\n",
       "      <th>AGER_TYP</th>\n",
       "      <th>AKT_DAT_KL</th>\n",
       "      <th>ALTER_HH</th>\n",
       "      <th>ALTER_KIND1</th>\n",
       "      <th>ALTER_KIND2</th>\n",
       "      <th>ALTER_KIND3</th>\n",
       "      <th>ALTER_KIND4</th>\n",
       "      <th>ALTERSKATEGORIE_FEIN</th>\n",
       "      <th>ANZ_HAUSHALTE_AKTIV</th>\n",
       "      <th>...</th>\n",
       "      <th>VK_DHT4A</th>\n",
       "      <th>VK_DISTANZ</th>\n",
       "      <th>VK_ZG11</th>\n",
       "      <th>W_KEIT_KIND_HH</th>\n",
       "      <th>WOHNDAUER_2008</th>\n",
       "      <th>WOHNLAGE</th>\n",
       "      <th>ZABEOTYP</th>\n",
       "      <th>RESPONSE</th>\n",
       "      <th>ANREDE_KZ</th>\n",
       "      <th>ALTERSKATEGORIE_GROB</th>\n",
       "    </tr>\n",
       "  </thead>\n",
       "  <tbody>\n",
       "    <tr>\n",
       "      <th>0</th>\n",
       "      <td>1763</td>\n",
       "      <td>2</td>\n",
       "      <td>1.0</td>\n",
       "      <td>8.0</td>\n",
       "      <td>NaN</td>\n",
       "      <td>NaN</td>\n",
       "      <td>NaN</td>\n",
       "      <td>NaN</td>\n",
       "      <td>8.0</td>\n",
       "      <td>15.0</td>\n",
       "      <td>...</td>\n",
       "      <td>5.0</td>\n",
       "      <td>2.0</td>\n",
       "      <td>1.0</td>\n",
       "      <td>6.0</td>\n",
       "      <td>9.0</td>\n",
       "      <td>3.0</td>\n",
       "      <td>3</td>\n",
       "      <td>0</td>\n",
       "      <td>2</td>\n",
       "      <td>4</td>\n",
       "    </tr>\n",
       "    <tr>\n",
       "      <th>1</th>\n",
       "      <td>1771</td>\n",
       "      <td>1</td>\n",
       "      <td>4.0</td>\n",
       "      <td>13.0</td>\n",
       "      <td>NaN</td>\n",
       "      <td>NaN</td>\n",
       "      <td>NaN</td>\n",
       "      <td>NaN</td>\n",
       "      <td>13.0</td>\n",
       "      <td>1.0</td>\n",
       "      <td>...</td>\n",
       "      <td>1.0</td>\n",
       "      <td>2.0</td>\n",
       "      <td>1.0</td>\n",
       "      <td>4.0</td>\n",
       "      <td>9.0</td>\n",
       "      <td>7.0</td>\n",
       "      <td>1</td>\n",
       "      <td>0</td>\n",
       "      <td>2</td>\n",
       "      <td>3</td>\n",
       "    </tr>\n",
       "    <tr>\n",
       "      <th>2</th>\n",
       "      <td>1776</td>\n",
       "      <td>1</td>\n",
       "      <td>1.0</td>\n",
       "      <td>9.0</td>\n",
       "      <td>NaN</td>\n",
       "      <td>NaN</td>\n",
       "      <td>NaN</td>\n",
       "      <td>NaN</td>\n",
       "      <td>7.0</td>\n",
       "      <td>0.0</td>\n",
       "      <td>...</td>\n",
       "      <td>6.0</td>\n",
       "      <td>4.0</td>\n",
       "      <td>2.0</td>\n",
       "      <td>NaN</td>\n",
       "      <td>9.0</td>\n",
       "      <td>2.0</td>\n",
       "      <td>3</td>\n",
       "      <td>0</td>\n",
       "      <td>1</td>\n",
       "      <td>4</td>\n",
       "    </tr>\n",
       "    <tr>\n",
       "      <th>3</th>\n",
       "      <td>1460</td>\n",
       "      <td>2</td>\n",
       "      <td>1.0</td>\n",
       "      <td>6.0</td>\n",
       "      <td>NaN</td>\n",
       "      <td>NaN</td>\n",
       "      <td>NaN</td>\n",
       "      <td>NaN</td>\n",
       "      <td>6.0</td>\n",
       "      <td>4.0</td>\n",
       "      <td>...</td>\n",
       "      <td>8.0</td>\n",
       "      <td>11.0</td>\n",
       "      <td>11.0</td>\n",
       "      <td>6.0</td>\n",
       "      <td>9.0</td>\n",
       "      <td>1.0</td>\n",
       "      <td>3</td>\n",
       "      <td>0</td>\n",
       "      <td>2</td>\n",
       "      <td>4</td>\n",
       "    </tr>\n",
       "    <tr>\n",
       "      <th>4</th>\n",
       "      <td>1783</td>\n",
       "      <td>2</td>\n",
       "      <td>1.0</td>\n",
       "      <td>9.0</td>\n",
       "      <td>NaN</td>\n",
       "      <td>NaN</td>\n",
       "      <td>NaN</td>\n",
       "      <td>NaN</td>\n",
       "      <td>9.0</td>\n",
       "      <td>53.0</td>\n",
       "      <td>...</td>\n",
       "      <td>2.0</td>\n",
       "      <td>2.0</td>\n",
       "      <td>1.0</td>\n",
       "      <td>6.0</td>\n",
       "      <td>9.0</td>\n",
       "      <td>3.0</td>\n",
       "      <td>3</td>\n",
       "      <td>0</td>\n",
       "      <td>1</td>\n",
       "      <td>3</td>\n",
       "    </tr>\n",
       "    <tr>\n",
       "      <th>5</th>\n",
       "      <td>1789</td>\n",
       "      <td>3</td>\n",
       "      <td>1.0</td>\n",
       "      <td>12.0</td>\n",
       "      <td>NaN</td>\n",
       "      <td>NaN</td>\n",
       "      <td>NaN</td>\n",
       "      <td>NaN</td>\n",
       "      <td>12.0</td>\n",
       "      <td>17.0</td>\n",
       "      <td>...</td>\n",
       "      <td>2.0</td>\n",
       "      <td>1.0</td>\n",
       "      <td>1.0</td>\n",
       "      <td>6.0</td>\n",
       "      <td>9.0</td>\n",
       "      <td>2.0</td>\n",
       "      <td>3</td>\n",
       "      <td>0</td>\n",
       "      <td>2</td>\n",
       "      <td>3</td>\n",
       "    </tr>\n",
       "    <tr>\n",
       "      <th>6</th>\n",
       "      <td>1795</td>\n",
       "      <td>1</td>\n",
       "      <td>1.0</td>\n",
       "      <td>8.0</td>\n",
       "      <td>NaN</td>\n",
       "      <td>NaN</td>\n",
       "      <td>NaN</td>\n",
       "      <td>NaN</td>\n",
       "      <td>8.0</td>\n",
       "      <td>2.0</td>\n",
       "      <td>...</td>\n",
       "      <td>6.0</td>\n",
       "      <td>6.0</td>\n",
       "      <td>3.0</td>\n",
       "      <td>6.0</td>\n",
       "      <td>9.0</td>\n",
       "      <td>2.0</td>\n",
       "      <td>3</td>\n",
       "      <td>0</td>\n",
       "      <td>2</td>\n",
       "      <td>4</td>\n",
       "    </tr>\n",
       "    <tr>\n",
       "      <th>7</th>\n",
       "      <td>1493</td>\n",
       "      <td>2</td>\n",
       "      <td>1.0</td>\n",
       "      <td>13.0</td>\n",
       "      <td>NaN</td>\n",
       "      <td>NaN</td>\n",
       "      <td>NaN</td>\n",
       "      <td>NaN</td>\n",
       "      <td>13.0</td>\n",
       "      <td>1.0</td>\n",
       "      <td>...</td>\n",
       "      <td>1.0</td>\n",
       "      <td>1.0</td>\n",
       "      <td>1.0</td>\n",
       "      <td>6.0</td>\n",
       "      <td>9.0</td>\n",
       "      <td>7.0</td>\n",
       "      <td>3</td>\n",
       "      <td>0</td>\n",
       "      <td>2</td>\n",
       "      <td>4</td>\n",
       "    </tr>\n",
       "    <tr>\n",
       "      <th>8</th>\n",
       "      <td>1801</td>\n",
       "      <td>-1</td>\n",
       "      <td>NaN</td>\n",
       "      <td>NaN</td>\n",
       "      <td>NaN</td>\n",
       "      <td>NaN</td>\n",
       "      <td>NaN</td>\n",
       "      <td>NaN</td>\n",
       "      <td>NaN</td>\n",
       "      <td>NaN</td>\n",
       "      <td>...</td>\n",
       "      <td>NaN</td>\n",
       "      <td>NaN</td>\n",
       "      <td>NaN</td>\n",
       "      <td>NaN</td>\n",
       "      <td>NaN</td>\n",
       "      <td>NaN</td>\n",
       "      <td>3</td>\n",
       "      <td>0</td>\n",
       "      <td>2</td>\n",
       "      <td>3</td>\n",
       "    </tr>\n",
       "    <tr>\n",
       "      <th>9</th>\n",
       "      <td>1834</td>\n",
       "      <td>-1</td>\n",
       "      <td>NaN</td>\n",
       "      <td>NaN</td>\n",
       "      <td>NaN</td>\n",
       "      <td>NaN</td>\n",
       "      <td>NaN</td>\n",
       "      <td>NaN</td>\n",
       "      <td>NaN</td>\n",
       "      <td>NaN</td>\n",
       "      <td>...</td>\n",
       "      <td>NaN</td>\n",
       "      <td>NaN</td>\n",
       "      <td>NaN</td>\n",
       "      <td>NaN</td>\n",
       "      <td>NaN</td>\n",
       "      <td>NaN</td>\n",
       "      <td>3</td>\n",
       "      <td>0</td>\n",
       "      <td>1</td>\n",
       "      <td>1</td>\n",
       "    </tr>\n",
       "  </tbody>\n",
       "</table>\n",
       "<p>10 rows × 367 columns</p>\n",
       "</div>"
      ],
      "text/plain": [
       "    LNR  AGER_TYP  AKT_DAT_KL  ALTER_HH  ALTER_KIND1  ALTER_KIND2  \\\n",
       "0  1763         2         1.0       8.0          NaN          NaN   \n",
       "1  1771         1         4.0      13.0          NaN          NaN   \n",
       "2  1776         1         1.0       9.0          NaN          NaN   \n",
       "3  1460         2         1.0       6.0          NaN          NaN   \n",
       "4  1783         2         1.0       9.0          NaN          NaN   \n",
       "5  1789         3         1.0      12.0          NaN          NaN   \n",
       "6  1795         1         1.0       8.0          NaN          NaN   \n",
       "7  1493         2         1.0      13.0          NaN          NaN   \n",
       "8  1801        -1         NaN       NaN          NaN          NaN   \n",
       "9  1834        -1         NaN       NaN          NaN          NaN   \n",
       "\n",
       "   ALTER_KIND3  ALTER_KIND4  ALTERSKATEGORIE_FEIN  ANZ_HAUSHALTE_AKTIV  \\\n",
       "0          NaN          NaN                   8.0                 15.0   \n",
       "1          NaN          NaN                  13.0                  1.0   \n",
       "2          NaN          NaN                   7.0                  0.0   \n",
       "3          NaN          NaN                   6.0                  4.0   \n",
       "4          NaN          NaN                   9.0                 53.0   \n",
       "5          NaN          NaN                  12.0                 17.0   \n",
       "6          NaN          NaN                   8.0                  2.0   \n",
       "7          NaN          NaN                  13.0                  1.0   \n",
       "8          NaN          NaN                   NaN                  NaN   \n",
       "9          NaN          NaN                   NaN                  NaN   \n",
       "\n",
       "          ...           VK_DHT4A  VK_DISTANZ  VK_ZG11  W_KEIT_KIND_HH  \\\n",
       "0         ...                5.0         2.0      1.0             6.0   \n",
       "1         ...                1.0         2.0      1.0             4.0   \n",
       "2         ...                6.0         4.0      2.0             NaN   \n",
       "3         ...                8.0        11.0     11.0             6.0   \n",
       "4         ...                2.0         2.0      1.0             6.0   \n",
       "5         ...                2.0         1.0      1.0             6.0   \n",
       "6         ...                6.0         6.0      3.0             6.0   \n",
       "7         ...                1.0         1.0      1.0             6.0   \n",
       "8         ...                NaN         NaN      NaN             NaN   \n",
       "9         ...                NaN         NaN      NaN             NaN   \n",
       "\n",
       "   WOHNDAUER_2008  WOHNLAGE  ZABEOTYP RESPONSE ANREDE_KZ ALTERSKATEGORIE_GROB  \n",
       "0             9.0       3.0         3        0         2                    4  \n",
       "1             9.0       7.0         1        0         2                    3  \n",
       "2             9.0       2.0         3        0         1                    4  \n",
       "3             9.0       1.0         3        0         2                    4  \n",
       "4             9.0       3.0         3        0         1                    3  \n",
       "5             9.0       2.0         3        0         2                    3  \n",
       "6             9.0       2.0         3        0         2                    4  \n",
       "7             9.0       7.0         3        0         2                    4  \n",
       "8             NaN       NaN         3        0         2                    3  \n",
       "9             NaN       NaN         3        0         1                    1  \n",
       "\n",
       "[10 rows x 367 columns]"
      ]
     },
     "execution_count": 5,
     "metadata": {},
     "output_type": "execute_result"
    }
   ],
   "source": [
    "# Inspect data\n",
    "mailout_train.head(10)"
   ]
  },
  {
   "cell_type": "markdown",
   "metadata": {},
   "source": [
    "### 2.1 Evaluation Metric"
   ]
  },
  {
   "cell_type": "code",
   "execution_count": 6,
   "metadata": {},
   "outputs": [
    {
     "data": {
      "text/plain": [
       "0    42430\n",
       "1      532\n",
       "Name: RESPONSE, dtype: int64"
      ]
     },
     "execution_count": 6,
     "metadata": {},
     "output_type": "execute_result"
    }
   ],
   "source": [
    "# Check response balance\n",
    "mailout_train.RESPONSE.value_counts()"
   ]
  },
  {
   "cell_type": "markdown",
   "metadata": {},
   "source": [
    "Accuracy is the most common evaluation metric. However, the training data shows that the response is highly skewed as the vast majority of targeted customers did not convert following the campaign. \n",
    "\n",
    "In this case, we will evaluate the performance using AUC (Area under curve; or AUROC); which is more suitable for unbalanced responses."
   ]
  },
  {
   "cell_type": "markdown",
   "metadata": {},
   "source": [
    "### 2.2 Data Preparation"
   ]
  },
  {
   "cell_type": "code",
   "execution_count": null,
   "metadata": {},
   "outputs": [],
   "source": [
    "# Function to prepare data based on data cleaning in section 0\n",
    "def data_cleaning (df):\n",
    "    \n",
    "    # handle warning\n",
    "    warning_columns = ['CAMEO_INTL_2015', 'CAMEO_DEUG_2015']\n",
    "    df[warning_columns] = df[warning_columns].replace(['X', 'XX'], np.NaN).astype(float)\n",
    "    \n",
    "    # Use same columns as in previous analysis\n",
    "    #cols = common_columns | {'RESPONSE'} | {'LNR'}\n",
    "    #df = df[df.columns.intersection(cols)]\n",
    "    \n",
    "    # replace unknowns with nans\n",
    "    df = replace_unknown_values(df, attributes_values_unknown)\n",
    "    \n",
    "    # removing columns which have been previously identified as having too many missing values\n",
    "    df = df.drop(removed_features, axis = 1)\n",
    "    \n",
    "    # remove rows with too many missing values\n",
    "    df = df.dropna(thresh=df.shape[1]-100)\n",
    "    \n",
    "    # handling categorical variables\n",
    "    df = df.drop(['CAMEO_DEU_2015', 'D19_LETZTER_KAUF_BRANCHE', 'EINGEFUEGT_AM'], axis = 1)\n",
    "    df[\"OST_WEST_KZ\"] = df[\"OST_WEST_KZ\"].replace({\"W\": 0, \"O\": 1})\n",
    "    \n",
    "    # imputing missing values with mode\n",
    "    imputation = Imputer(strategy=\"most_frequent\")\n",
    "    df = pd.DataFrame(imputation.fit_transform(df), columns = df.columns)\n",
    "    \n",
    "    # return df\n",
    "    return df\n",
    "\n",
    "mailout_train = data_cleaning(mailout_train)"
   ]
  },
  {
   "cell_type": "code",
   "execution_count": 47,
   "metadata": {},
   "outputs": [
    {
     "name": "stdout",
     "output_type": "stream",
     "text": [
      "(35000, 359)\n"
     ]
    },
    {
     "data": {
      "text/html": [
       "<div>\n",
       "<style scoped>\n",
       "    .dataframe tbody tr th:only-of-type {\n",
       "        vertical-align: middle;\n",
       "    }\n",
       "\n",
       "    .dataframe tbody tr th {\n",
       "        vertical-align: top;\n",
       "    }\n",
       "\n",
       "    .dataframe thead th {\n",
       "        text-align: right;\n",
       "    }\n",
       "</style>\n",
       "<table border=\"1\" class=\"dataframe\">\n",
       "  <thead>\n",
       "    <tr style=\"text-align: right;\">\n",
       "      <th></th>\n",
       "      <th>LNR</th>\n",
       "      <th>AKT_DAT_KL</th>\n",
       "      <th>ALTER_HH</th>\n",
       "      <th>ALTER_KIND1</th>\n",
       "      <th>ALTER_KIND2</th>\n",
       "      <th>ALTER_KIND3</th>\n",
       "      <th>ALTER_KIND4</th>\n",
       "      <th>ALTERSKATEGORIE_FEIN</th>\n",
       "      <th>ANZ_HAUSHALTE_AKTIV</th>\n",
       "      <th>ANZ_HH_TITEL</th>\n",
       "      <th>...</th>\n",
       "      <th>VK_DHT4A</th>\n",
       "      <th>VK_DISTANZ</th>\n",
       "      <th>VK_ZG11</th>\n",
       "      <th>W_KEIT_KIND_HH</th>\n",
       "      <th>WOHNDAUER_2008</th>\n",
       "      <th>WOHNLAGE</th>\n",
       "      <th>ZABEOTYP</th>\n",
       "      <th>RESPONSE</th>\n",
       "      <th>ANREDE_KZ</th>\n",
       "      <th>ALTERSKATEGORIE_GROB</th>\n",
       "    </tr>\n",
       "  </thead>\n",
       "  <tbody>\n",
       "    <tr>\n",
       "      <th>0</th>\n",
       "      <td>1763.0</td>\n",
       "      <td>1.0</td>\n",
       "      <td>8.0</td>\n",
       "      <td>18.0</td>\n",
       "      <td>17.0</td>\n",
       "      <td>18.0</td>\n",
       "      <td>13.0</td>\n",
       "      <td>8.0</td>\n",
       "      <td>15.0</td>\n",
       "      <td>0.0</td>\n",
       "      <td>...</td>\n",
       "      <td>5.0</td>\n",
       "      <td>2.0</td>\n",
       "      <td>1.0</td>\n",
       "      <td>6.0</td>\n",
       "      <td>9.0</td>\n",
       "      <td>3.0</td>\n",
       "      <td>3.0</td>\n",
       "      <td>0.0</td>\n",
       "      <td>2.0</td>\n",
       "      <td>4.0</td>\n",
       "    </tr>\n",
       "    <tr>\n",
       "      <th>1</th>\n",
       "      <td>1771.0</td>\n",
       "      <td>4.0</td>\n",
       "      <td>13.0</td>\n",
       "      <td>18.0</td>\n",
       "      <td>17.0</td>\n",
       "      <td>18.0</td>\n",
       "      <td>13.0</td>\n",
       "      <td>13.0</td>\n",
       "      <td>1.0</td>\n",
       "      <td>0.0</td>\n",
       "      <td>...</td>\n",
       "      <td>1.0</td>\n",
       "      <td>2.0</td>\n",
       "      <td>1.0</td>\n",
       "      <td>4.0</td>\n",
       "      <td>9.0</td>\n",
       "      <td>7.0</td>\n",
       "      <td>1.0</td>\n",
       "      <td>0.0</td>\n",
       "      <td>2.0</td>\n",
       "      <td>3.0</td>\n",
       "    </tr>\n",
       "    <tr>\n",
       "      <th>2</th>\n",
       "      <td>1776.0</td>\n",
       "      <td>1.0</td>\n",
       "      <td>9.0</td>\n",
       "      <td>18.0</td>\n",
       "      <td>17.0</td>\n",
       "      <td>18.0</td>\n",
       "      <td>13.0</td>\n",
       "      <td>7.0</td>\n",
       "      <td>0.0</td>\n",
       "      <td>0.0</td>\n",
       "      <td>...</td>\n",
       "      <td>6.0</td>\n",
       "      <td>4.0</td>\n",
       "      <td>2.0</td>\n",
       "      <td>6.0</td>\n",
       "      <td>9.0</td>\n",
       "      <td>2.0</td>\n",
       "      <td>3.0</td>\n",
       "      <td>0.0</td>\n",
       "      <td>1.0</td>\n",
       "      <td>4.0</td>\n",
       "    </tr>\n",
       "    <tr>\n",
       "      <th>3</th>\n",
       "      <td>1460.0</td>\n",
       "      <td>1.0</td>\n",
       "      <td>6.0</td>\n",
       "      <td>18.0</td>\n",
       "      <td>17.0</td>\n",
       "      <td>18.0</td>\n",
       "      <td>13.0</td>\n",
       "      <td>6.0</td>\n",
       "      <td>4.0</td>\n",
       "      <td>0.0</td>\n",
       "      <td>...</td>\n",
       "      <td>8.0</td>\n",
       "      <td>11.0</td>\n",
       "      <td>11.0</td>\n",
       "      <td>6.0</td>\n",
       "      <td>9.0</td>\n",
       "      <td>1.0</td>\n",
       "      <td>3.0</td>\n",
       "      <td>0.0</td>\n",
       "      <td>2.0</td>\n",
       "      <td>4.0</td>\n",
       "    </tr>\n",
       "    <tr>\n",
       "      <th>4</th>\n",
       "      <td>1783.0</td>\n",
       "      <td>1.0</td>\n",
       "      <td>9.0</td>\n",
       "      <td>18.0</td>\n",
       "      <td>17.0</td>\n",
       "      <td>18.0</td>\n",
       "      <td>13.0</td>\n",
       "      <td>9.0</td>\n",
       "      <td>53.0</td>\n",
       "      <td>0.0</td>\n",
       "      <td>...</td>\n",
       "      <td>2.0</td>\n",
       "      <td>2.0</td>\n",
       "      <td>1.0</td>\n",
       "      <td>6.0</td>\n",
       "      <td>9.0</td>\n",
       "      <td>3.0</td>\n",
       "      <td>3.0</td>\n",
       "      <td>0.0</td>\n",
       "      <td>1.0</td>\n",
       "      <td>3.0</td>\n",
       "    </tr>\n",
       "    <tr>\n",
       "      <th>5</th>\n",
       "      <td>1789.0</td>\n",
       "      <td>1.0</td>\n",
       "      <td>12.0</td>\n",
       "      <td>18.0</td>\n",
       "      <td>17.0</td>\n",
       "      <td>18.0</td>\n",
       "      <td>13.0</td>\n",
       "      <td>12.0</td>\n",
       "      <td>17.0</td>\n",
       "      <td>0.0</td>\n",
       "      <td>...</td>\n",
       "      <td>2.0</td>\n",
       "      <td>1.0</td>\n",
       "      <td>1.0</td>\n",
       "      <td>6.0</td>\n",
       "      <td>9.0</td>\n",
       "      <td>2.0</td>\n",
       "      <td>3.0</td>\n",
       "      <td>0.0</td>\n",
       "      <td>2.0</td>\n",
       "      <td>3.0</td>\n",
       "    </tr>\n",
       "    <tr>\n",
       "      <th>6</th>\n",
       "      <td>1795.0</td>\n",
       "      <td>1.0</td>\n",
       "      <td>8.0</td>\n",
       "      <td>18.0</td>\n",
       "      <td>17.0</td>\n",
       "      <td>18.0</td>\n",
       "      <td>13.0</td>\n",
       "      <td>8.0</td>\n",
       "      <td>2.0</td>\n",
       "      <td>0.0</td>\n",
       "      <td>...</td>\n",
       "      <td>6.0</td>\n",
       "      <td>6.0</td>\n",
       "      <td>3.0</td>\n",
       "      <td>6.0</td>\n",
       "      <td>9.0</td>\n",
       "      <td>2.0</td>\n",
       "      <td>3.0</td>\n",
       "      <td>0.0</td>\n",
       "      <td>2.0</td>\n",
       "      <td>4.0</td>\n",
       "    </tr>\n",
       "    <tr>\n",
       "      <th>7</th>\n",
       "      <td>1493.0</td>\n",
       "      <td>1.0</td>\n",
       "      <td>13.0</td>\n",
       "      <td>18.0</td>\n",
       "      <td>17.0</td>\n",
       "      <td>18.0</td>\n",
       "      <td>13.0</td>\n",
       "      <td>13.0</td>\n",
       "      <td>1.0</td>\n",
       "      <td>0.0</td>\n",
       "      <td>...</td>\n",
       "      <td>1.0</td>\n",
       "      <td>1.0</td>\n",
       "      <td>1.0</td>\n",
       "      <td>6.0</td>\n",
       "      <td>9.0</td>\n",
       "      <td>7.0</td>\n",
       "      <td>3.0</td>\n",
       "      <td>0.0</td>\n",
       "      <td>2.0</td>\n",
       "      <td>4.0</td>\n",
       "    </tr>\n",
       "    <tr>\n",
       "      <th>8</th>\n",
       "      <td>2512.0</td>\n",
       "      <td>1.0</td>\n",
       "      <td>8.0</td>\n",
       "      <td>18.0</td>\n",
       "      <td>17.0</td>\n",
       "      <td>18.0</td>\n",
       "      <td>13.0</td>\n",
       "      <td>8.0</td>\n",
       "      <td>2.0</td>\n",
       "      <td>0.0</td>\n",
       "      <td>...</td>\n",
       "      <td>7.0</td>\n",
       "      <td>8.0</td>\n",
       "      <td>5.0</td>\n",
       "      <td>6.0</td>\n",
       "      <td>9.0</td>\n",
       "      <td>7.0</td>\n",
       "      <td>3.0</td>\n",
       "      <td>0.0</td>\n",
       "      <td>1.0</td>\n",
       "      <td>4.0</td>\n",
       "    </tr>\n",
       "    <tr>\n",
       "      <th>9</th>\n",
       "      <td>2513.0</td>\n",
       "      <td>1.0</td>\n",
       "      <td>15.0</td>\n",
       "      <td>18.0</td>\n",
       "      <td>17.0</td>\n",
       "      <td>18.0</td>\n",
       "      <td>13.0</td>\n",
       "      <td>8.0</td>\n",
       "      <td>1.0</td>\n",
       "      <td>0.0</td>\n",
       "      <td>...</td>\n",
       "      <td>1.0</td>\n",
       "      <td>1.0</td>\n",
       "      <td>1.0</td>\n",
       "      <td>3.0</td>\n",
       "      <td>9.0</td>\n",
       "      <td>4.0</td>\n",
       "      <td>3.0</td>\n",
       "      <td>0.0</td>\n",
       "      <td>2.0</td>\n",
       "      <td>4.0</td>\n",
       "    </tr>\n",
       "  </tbody>\n",
       "</table>\n",
       "<p>10 rows × 359 columns</p>\n",
       "</div>"
      ],
      "text/plain": [
       "      LNR  AKT_DAT_KL  ALTER_HH  ALTER_KIND1  ALTER_KIND2  ALTER_KIND3  \\\n",
       "0  1763.0         1.0       8.0         18.0         17.0         18.0   \n",
       "1  1771.0         4.0      13.0         18.0         17.0         18.0   \n",
       "2  1776.0         1.0       9.0         18.0         17.0         18.0   \n",
       "3  1460.0         1.0       6.0         18.0         17.0         18.0   \n",
       "4  1783.0         1.0       9.0         18.0         17.0         18.0   \n",
       "5  1789.0         1.0      12.0         18.0         17.0         18.0   \n",
       "6  1795.0         1.0       8.0         18.0         17.0         18.0   \n",
       "7  1493.0         1.0      13.0         18.0         17.0         18.0   \n",
       "8  2512.0         1.0       8.0         18.0         17.0         18.0   \n",
       "9  2513.0         1.0      15.0         18.0         17.0         18.0   \n",
       "\n",
       "   ALTER_KIND4  ALTERSKATEGORIE_FEIN  ANZ_HAUSHALTE_AKTIV  ANZ_HH_TITEL  \\\n",
       "0         13.0                   8.0                 15.0           0.0   \n",
       "1         13.0                  13.0                  1.0           0.0   \n",
       "2         13.0                   7.0                  0.0           0.0   \n",
       "3         13.0                   6.0                  4.0           0.0   \n",
       "4         13.0                   9.0                 53.0           0.0   \n",
       "5         13.0                  12.0                 17.0           0.0   \n",
       "6         13.0                   8.0                  2.0           0.0   \n",
       "7         13.0                  13.0                  1.0           0.0   \n",
       "8         13.0                   8.0                  2.0           0.0   \n",
       "9         13.0                   8.0                  1.0           0.0   \n",
       "\n",
       "           ...           VK_DHT4A  VK_DISTANZ  VK_ZG11  W_KEIT_KIND_HH  \\\n",
       "0          ...                5.0         2.0      1.0             6.0   \n",
       "1          ...                1.0         2.0      1.0             4.0   \n",
       "2          ...                6.0         4.0      2.0             6.0   \n",
       "3          ...                8.0        11.0     11.0             6.0   \n",
       "4          ...                2.0         2.0      1.0             6.0   \n",
       "5          ...                2.0         1.0      1.0             6.0   \n",
       "6          ...                6.0         6.0      3.0             6.0   \n",
       "7          ...                1.0         1.0      1.0             6.0   \n",
       "8          ...                7.0         8.0      5.0             6.0   \n",
       "9          ...                1.0         1.0      1.0             3.0   \n",
       "\n",
       "   WOHNDAUER_2008  WOHNLAGE  ZABEOTYP  RESPONSE  ANREDE_KZ  \\\n",
       "0             9.0       3.0       3.0       0.0        2.0   \n",
       "1             9.0       7.0       1.0       0.0        2.0   \n",
       "2             9.0       2.0       3.0       0.0        1.0   \n",
       "3             9.0       1.0       3.0       0.0        2.0   \n",
       "4             9.0       3.0       3.0       0.0        1.0   \n",
       "5             9.0       2.0       3.0       0.0        2.0   \n",
       "6             9.0       2.0       3.0       0.0        2.0   \n",
       "7             9.0       7.0       3.0       0.0        2.0   \n",
       "8             9.0       7.0       3.0       0.0        1.0   \n",
       "9             9.0       4.0       3.0       0.0        2.0   \n",
       "\n",
       "   ALTERSKATEGORIE_GROB  \n",
       "0                   4.0  \n",
       "1                   3.0  \n",
       "2                   4.0  \n",
       "3                   4.0  \n",
       "4                   3.0  \n",
       "5                   3.0  \n",
       "6                   4.0  \n",
       "7                   4.0  \n",
       "8                   4.0  \n",
       "9                   4.0  \n",
       "\n",
       "[10 rows x 359 columns]"
      ]
     },
     "execution_count": 47,
     "metadata": {},
     "output_type": "execute_result"
    }
   ],
   "source": [
    "# Inspect data after cleaning\n",
    "print(mailout_train.shape)\n",
    "mailout_train.head(10)"
   ]
  },
  {
   "cell_type": "markdown",
   "metadata": {},
   "source": [
    "We lost about 8k rows (19%) of the training data due to a large number of missing values. However, the data now is clean and ready to be used for modelling. "
   ]
  },
  {
   "cell_type": "code",
   "execution_count": null,
   "metadata": {},
   "outputs": [],
   "source": [
    "# Save cleaned\n",
    "mailout_train.to_csv('mailout_train_clean.csv', index=False)"
   ]
  },
  {
   "cell_type": "code",
   "execution_count": 46,
   "metadata": {},
   "outputs": [],
   "source": [
    "# Import cleaned data\n",
    "#mailout_train = pd.read_csv('./mailout_train_clean.csv')"
   ]
  },
  {
   "cell_type": "code",
   "execution_count": 10,
   "metadata": {},
   "outputs": [
    {
     "data": {
      "text/plain": [
       "0.0    34565\n",
       "1.0      435\n",
       "Name: RESPONSE, dtype: int64"
      ]
     },
     "execution_count": 10,
     "metadata": {},
     "output_type": "execute_result"
    }
   ],
   "source": [
    "# Check response balance\n",
    "mailout_train.RESPONSE.value_counts()"
   ]
  },
  {
   "cell_type": "markdown",
   "metadata": {},
   "source": [
    "### 2.3 Training Base Model"
   ]
  },
  {
   "cell_type": "code",
   "execution_count": 11,
   "metadata": {},
   "outputs": [],
   "source": [
    "# Labels, prediction features and LNR \n",
    "labels = mailout_train['RESPONSE']\n",
    "mailout_train_x = mailout_train.drop(['RESPONSE', 'LNR'], axis = 1)"
   ]
  },
  {
   "cell_type": "code",
   "execution_count": 12,
   "metadata": {},
   "outputs": [],
   "source": [
    "# Split train data\n",
    "X_train, X_val, Y_train, Y_val = train_test_split(mailout_train_x, labels, stratify=labels, test_size=0.3, random_state=123)"
   ]
  },
  {
   "cell_type": "code",
   "execution_count": 13,
   "metadata": {},
   "outputs": [
    {
     "data": {
      "text/plain": [
       "LogisticRegression(C=1.0, class_weight=None, dual=False, fit_intercept=True,\n",
       "          intercept_scaling=1, max_iter=100, multi_class='ovr', n_jobs=1,\n",
       "          penalty='l2', random_state=123, solver='liblinear', tol=0.0001,\n",
       "          verbose=0, warm_start=False)"
      ]
     },
     "execution_count": 13,
     "metadata": {},
     "output_type": "execute_result"
    }
   ],
   "source": [
    "# Train data with simple logistic regression model as base model\n",
    "LR = LogisticRegression(random_state=123)\n",
    "LR.fit(X_train, Y_train)"
   ]
  },
  {
   "cell_type": "code",
   "execution_count": 14,
   "metadata": {},
   "outputs": [
    {
     "data": {
      "text/plain": [
       "0.68106075216972028"
      ]
     },
     "execution_count": 14,
     "metadata": {},
     "output_type": "execute_result"
    }
   ],
   "source": [
    "# Predict using base model\n",
    "predictions = LR.predict_proba(X_val)[:,1]\n",
    "\n",
    "# Calculating AUC\n",
    "roc_auc_score(Y_val, predictions)"
   ]
  },
  {
   "cell_type": "markdown",
   "metadata": {},
   "source": [
    "### 2.4 Improve Model"
   ]
  },
  {
   "cell_type": "markdown",
   "metadata": {},
   "source": [
    "#### 2.4.1 Scaling data"
   ]
  },
  {
   "cell_type": "code",
   "execution_count": 15,
   "metadata": {},
   "outputs": [],
   "source": [
    "# Scaling data\n",
    "scaling = MinMaxScaler()\n",
    "mailout_train_x_scaled = pd.DataFrame(scaling.fit_transform(mailout_train_x), columns = mailout_train_x.columns)"
   ]
  },
  {
   "cell_type": "markdown",
   "metadata": {},
   "source": [
    "#### 2.4.2 Choosing the best classifier"
   ]
  },
  {
   "cell_type": "code",
   "execution_count": 16,
   "metadata": {},
   "outputs": [],
   "source": [
    "# Splitting data\n",
    "X_train, X_val, Y_train, Y_val = train_test_split(mailout_train_x_scaled, labels, stratify=labels, test_size=0.3, random_state=123)"
   ]
  },
  {
   "cell_type": "code",
   "execution_count": 19,
   "metadata": {},
   "outputs": [],
   "source": [
    "# Function to train model and predict\n",
    "def train_predict(model, X_train, Y_train, X_val, Y_val):\n",
    "    \"\"\" Trains a model, predicts on test data and returns AUC score\"\"\"\n",
    "    \n",
    "    model = model.fit(X_train, Y_train)\n",
    "    auc_score = roc_auc_score(Y_val, model.predict_proba(X_val)[:,1])\n",
    "    \n",
    "    return auc_score"
   ]
  },
  {
   "cell_type": "code",
   "execution_count": 22,
   "metadata": {},
   "outputs": [],
   "source": [
    "# List different advanced classifiers to test\n",
    "mdls = [(\"LogisticRegression\", LogisticRegression(random_state=123)),\n",
    "        (\"DecisionTreeClassifier\", DecisionTreeClassifier(random_state=123)),\n",
    "        (\"RandomForestClassifier\", RandomForestClassifier(random_state=123)),\n",
    "        (\"GradientBoostingClassifier\", GradientBoostingClassifier(random_state=123)),\n",
    "        (\"AdaBoostClassifier\", AdaBoostClassifier(random_state=123))]\n",
    "\n",
    "# Test different classifiers\n",
    "performance = {\"Model\":[],\n",
    "               \"AUC_score\":[]}\n",
    "\n",
    "for name, mdl in mdls:\n",
    "    auc = train_predict(mdl, X_train, Y_train, X_val, Y_val)\n",
    "    performance[\"Model\"].append(name)\n",
    "    performance[\"AUC_score\"].append(auc)"
   ]
  },
  {
   "cell_type": "code",
   "execution_count": 23,
   "metadata": {},
   "outputs": [
    {
     "data": {
      "text/html": [
       "<div>\n",
       "<style scoped>\n",
       "    .dataframe tbody tr th:only-of-type {\n",
       "        vertical-align: middle;\n",
       "    }\n",
       "\n",
       "    .dataframe tbody tr th {\n",
       "        vertical-align: top;\n",
       "    }\n",
       "\n",
       "    .dataframe thead th {\n",
       "        text-align: right;\n",
       "    }\n",
       "</style>\n",
       "<table border=\"1\" class=\"dataframe\">\n",
       "  <thead>\n",
       "    <tr style=\"text-align: right;\">\n",
       "      <th></th>\n",
       "      <th>Model</th>\n",
       "      <th>AUC_score</th>\n",
       "    </tr>\n",
       "  </thead>\n",
       "  <tbody>\n",
       "    <tr>\n",
       "      <th>0</th>\n",
       "      <td>LogisticRegression</td>\n",
       "      <td>0.686586</td>\n",
       "    </tr>\n",
       "    <tr>\n",
       "      <th>1</th>\n",
       "      <td>DecisionTreeClassifier</td>\n",
       "      <td>0.499303</td>\n",
       "    </tr>\n",
       "    <tr>\n",
       "      <th>2</th>\n",
       "      <td>RandomForestClassifier</td>\n",
       "      <td>0.526515</td>\n",
       "    </tr>\n",
       "    <tr>\n",
       "      <th>3</th>\n",
       "      <td>GradientBoostingClassifier</td>\n",
       "      <td>0.772798</td>\n",
       "    </tr>\n",
       "    <tr>\n",
       "      <th>4</th>\n",
       "      <td>AdaBoostClassifier</td>\n",
       "      <td>0.753984</td>\n",
       "    </tr>\n",
       "  </tbody>\n",
       "</table>\n",
       "</div>"
      ],
      "text/plain": [
       "                        Model AUC_score\n",
       "0          LogisticRegression  0.686586\n",
       "1      DecisionTreeClassifier  0.499303\n",
       "2      RandomForestClassifier  0.526515\n",
       "3  GradientBoostingClassifier  0.772798\n",
       "4          AdaBoostClassifier  0.753984"
      ]
     },
     "execution_count": 23,
     "metadata": {},
     "output_type": "execute_result"
    }
   ],
   "source": [
    "# Compare results\n",
    "performance = pd.DataFrame.from_dict(performance, orient='index').transpose()\n",
    "performance"
   ]
  },
  {
   "cell_type": "markdown",
   "metadata": {},
   "source": [
    "The Gradient Boosting Classifier performs best. Therefore, we will continue with this classifier."
   ]
  },
  {
   "cell_type": "markdown",
   "metadata": {},
   "source": [
    "#### 2.4.3 Grid Search"
   ]
  },
  {
   "cell_type": "code",
   "execution_count": 42,
   "metadata": {},
   "outputs": [
    {
     "name": "stdout",
     "output_type": "stream",
     "text": [
      "Fitting 4 folds for each of 6 candidates, totalling 24 fits\n",
      "[CV] learning_rate=0.1, n_estimators=100 .............................\n",
      "[CV] .............. learning_rate=0.1, n_estimators=100, total=  25.7s\n",
      "[CV] learning_rate=0.1, n_estimators=100 .............................\n"
     ]
    },
    {
     "name": "stderr",
     "output_type": "stream",
     "text": [
      "[Parallel(n_jobs=-1)]: Done   1 out of   1 | elapsed:   25.9s remaining:    0.0s\n"
     ]
    },
    {
     "name": "stdout",
     "output_type": "stream",
     "text": [
      "[CV] .............. learning_rate=0.1, n_estimators=100, total=  24.6s\n",
      "[CV] learning_rate=0.1, n_estimators=100 .............................\n",
      "[CV] .............. learning_rate=0.1, n_estimators=100, total=  25.1s\n",
      "[CV] learning_rate=0.1, n_estimators=100 .............................\n",
      "[CV] .............. learning_rate=0.1, n_estimators=100, total=  25.0s\n",
      "[CV] learning_rate=0.1, n_estimators=150 .............................\n",
      "[CV] .............. learning_rate=0.1, n_estimators=150, total=  36.1s\n",
      "[CV] learning_rate=0.1, n_estimators=150 .............................\n",
      "[CV] .............. learning_rate=0.1, n_estimators=150, total=  36.3s\n",
      "[CV] learning_rate=0.1, n_estimators=150 .............................\n",
      "[CV] .............. learning_rate=0.1, n_estimators=150, total=  36.3s\n",
      "[CV] learning_rate=0.1, n_estimators=150 .............................\n",
      "[CV] .............. learning_rate=0.1, n_estimators=150, total=  36.6s\n",
      "[CV] learning_rate=0.5, n_estimators=100 .............................\n",
      "[CV] .............. learning_rate=0.5, n_estimators=100, total=  21.1s\n",
      "[CV] learning_rate=0.5, n_estimators=100 .............................\n",
      "[CV] .............. learning_rate=0.5, n_estimators=100, total=  22.6s\n",
      "[CV] learning_rate=0.5, n_estimators=100 .............................\n",
      "[CV] .............. learning_rate=0.5, n_estimators=100, total=  21.8s\n",
      "[CV] learning_rate=0.5, n_estimators=100 .............................\n",
      "[CV] .............. learning_rate=0.5, n_estimators=100, total=  22.3s\n",
      "[CV] learning_rate=0.5, n_estimators=150 .............................\n",
      "[CV] .............. learning_rate=0.5, n_estimators=150, total=  33.6s\n",
      "[CV] learning_rate=0.5, n_estimators=150 .............................\n",
      "[CV] .............. learning_rate=0.5, n_estimators=150, total=  34.6s\n",
      "[CV] learning_rate=0.5, n_estimators=150 .............................\n",
      "[CV] .............. learning_rate=0.5, n_estimators=150, total=  33.9s\n",
      "[CV] learning_rate=0.5, n_estimators=150 .............................\n",
      "[CV] .............. learning_rate=0.5, n_estimators=150, total=  33.8s\n",
      "[CV] learning_rate=1.0, n_estimators=100 .............................\n",
      "[CV] .............. learning_rate=1.0, n_estimators=100, total=  18.5s\n",
      "[CV] learning_rate=1.0, n_estimators=100 .............................\n",
      "[CV] .............. learning_rate=1.0, n_estimators=100, total=  15.5s\n",
      "[CV] learning_rate=1.0, n_estimators=100 .............................\n",
      "[CV] .............. learning_rate=1.0, n_estimators=100, total=  19.6s\n",
      "[CV] learning_rate=1.0, n_estimators=100 .............................\n",
      "[CV] .............. learning_rate=1.0, n_estimators=100, total=  18.4s\n",
      "[CV] learning_rate=1.0, n_estimators=150 .............................\n",
      "[CV] .............. learning_rate=1.0, n_estimators=150, total=  28.2s\n",
      "[CV] learning_rate=1.0, n_estimators=150 .............................\n",
      "[CV] .............. learning_rate=1.0, n_estimators=150, total=  21.6s\n",
      "[CV] learning_rate=1.0, n_estimators=150 .............................\n",
      "[CV] .............. learning_rate=1.0, n_estimators=150, total=  27.4s\n",
      "[CV] learning_rate=1.0, n_estimators=150 .............................\n",
      "[CV] .............. learning_rate=1.0, n_estimators=150, total=  25.2s\n"
     ]
    },
    {
     "name": "stderr",
     "output_type": "stream",
     "text": [
      "[Parallel(n_jobs=-1)]: Done  24 out of  24 | elapsed: 10.8min finished\n"
     ]
    },
    {
     "name": "stdout",
     "output_type": "stream",
     "text": [
      "Best AUC Score:  0.768404409099\n",
      "Best Params:  {'learning_rate': 0.1, 'n_estimators': 100}\n"
     ]
    }
   ],
   "source": [
    "# Grid Search (Gradient Boost)\n",
    "param_grid = {\"n_estimators\": [100,150],\n",
    "              \"learning_rate\": [0.1,0.5,1.],\n",
    "              }\n",
    "\n",
    "gradientboost_gridsearch = GridSearchCV(estimator = GradientBoostingClassifier(random_state=123), \n",
    "                                   param_grid = param_grid, \n",
    "                                   scoring = \"roc_auc\", \n",
    "                                   cv = 4, n_jobs = -1, verbose=2)\n",
    "\n",
    "gradientboost_gridsearch.fit(X_train, Y_train)\n",
    "\n",
    "gradientboost_best = gradientboost_gridsearch.best_estimator_\n",
    "\n",
    "print(\"Best AUC Score: \", gradientboost_gridsearch.best_score_)\n",
    "print(\"Best Params: \", gradientboost_gridsearch.best_params_)"
   ]
  },
  {
   "cell_type": "markdown",
   "metadata": {},
   "source": [
    "### 2.5 Final model"
   ]
  },
  {
   "cell_type": "code",
   "execution_count": 48,
   "metadata": {},
   "outputs": [
    {
     "data": {
      "text/plain": [
       "0.77279801201691267"
      ]
     },
     "execution_count": 48,
     "metadata": {},
     "output_type": "execute_result"
    }
   ],
   "source": [
    "# Make predictions\n",
    "predictions_gradientboost = gradientboost_best.predict_proba(X_val)[:,1]\n",
    "\n",
    "# Calculate AUC\n",
    "roc_auc_score(Y_val, predictions_gradientboost)"
   ]
  },
  {
   "cell_type": "markdown",
   "metadata": {},
   "source": [
    "## Part 3: Kaggle Competition\n",
    "\n",
    "Now that you've created a model to predict which individuals are most likely to respond to a mailout campaign, it's time to test that model in competition through Kaggle. If you click on the link [here](http://www.kaggle.com/t/21e6d45d4c574c7fa2d868f0e8c83140), you'll be taken to the competition page where, if you have a Kaggle account, you can enter.\n",
    "\n",
    "Your entry to the competition should be a CSV file with two columns. The first column should be a copy of \"LNR\", which acts as an ID number for each individual in the \"TEST\" partition. The second column, \"RESPONSE\", should be some measure of how likely each individual became a customer – this might not be a straightforward probability. As you should have found in Part 2, there is a large output class imbalance, where most individuals did not respond to the mailout. Thus, predicting individual classes and using accuracy does not seem to be an appropriate performance evaluation method. Instead, the competition will be using AUC to evaluate performance. The exact values of the \"RESPONSE\" column do not matter as much: only that the higher values try to capture as many of the actual customers as possible, early in the ROC curve sweep."
   ]
  },
  {
   "cell_type": "code",
   "execution_count": 49,
   "metadata": {},
   "outputs": [
    {
     "name": "stderr",
     "output_type": "stream",
     "text": [
      "/opt/conda/lib/python3.6/site-packages/IPython/core/interactiveshell.py:2785: DtypeWarning: Columns (18,19) have mixed types. Specify dtype option on import or set low_memory=False.\n",
      "  interactivity=interactivity, compiler=compiler, result=result)\n"
     ]
    }
   ],
   "source": [
    "# Load in test data\n",
    "mailout_test = pd.read_csv('../../data/Term2/capstone/arvato_data/Udacity_MAILOUT_052018_TEST.csv', sep=';')"
   ]
  },
  {
   "cell_type": "code",
   "execution_count": 50,
   "metadata": {},
   "outputs": [],
   "source": [
    "# Function to prepare test data (requires slight modification to previous version)\n",
    "def data_cleaning_2 (df):\n",
    "    \n",
    "    # handle warning\n",
    "    warning_columns = ['CAMEO_INTL_2015', 'CAMEO_DEUG_2015']\n",
    "    df[warning_columns] = df[warning_columns].replace(['X', 'XX'], np.NaN).astype(float)\n",
    "    \n",
    "    # Use same columns as in previous analysis\n",
    "    #cols = common_columns | {'RESPONSE'} | {'LNR'}\n",
    "    #df = df[df.columns.intersection(cols)]\n",
    "    \n",
    "    # replace unknowns with nans\n",
    "    df = replace_unknown_values(df, attributes_values_unknown)\n",
    "    \n",
    "    # removing columns which have been previously identified as having too many missing values\n",
    "    df = df.drop(removed_features, axis = 1)\n",
    "    \n",
    "    # handling categorical variables\n",
    "    df = df.drop(['CAMEO_DEU_2015', 'D19_LETZTER_KAUF_BRANCHE', 'EINGEFUEGT_AM'], axis = 1)\n",
    "    df[\"OST_WEST_KZ\"] = df[\"OST_WEST_KZ\"].replace({\"W\": 0, \"O\": 1})\n",
    "    \n",
    "    # imputing missing values with mode\n",
    "    imputation = Imputer(strategy=\"most_frequent\")\n",
    "    df = pd.DataFrame(imputation.fit_transform(df), columns = df.columns)\n",
    "    \n",
    "    # return df\n",
    "    return df"
   ]
  },
  {
   "cell_type": "code",
   "execution_count": null,
   "metadata": {},
   "outputs": [],
   "source": [
    "# Cleaning test data\n",
    "mailout_test = data_cleaning_2(mailout_test)\n",
    "mailout_test_LNR = mailout_test[\"LNR\"]\n",
    "mailout_test_x = mailout_test.drop(['LNR'], axis = 1)\n",
    "mailout_test_x_scaled = pd.DataFrame(scaling.fit_transform(mailout_test_x), columns = mailout_test_x.columns)"
   ]
  },
  {
   "cell_type": "code",
   "execution_count": 52,
   "metadata": {},
   "outputs": [
    {
     "data": {
      "text/plain": [
       "GradientBoostingClassifier(criterion='friedman_mse', init=None,\n",
       "              learning_rate=0.1, loss='deviance', max_depth=3,\n",
       "              max_features=None, max_leaf_nodes=None,\n",
       "              min_impurity_decrease=0.0, min_impurity_split=None,\n",
       "              min_samples_leaf=1, min_samples_split=2,\n",
       "              min_weight_fraction_leaf=0.0, n_estimators=100,\n",
       "              presort='auto', random_state=123, subsample=1.0, verbose=0,\n",
       "              warm_start=False)"
      ]
     },
     "execution_count": 52,
     "metadata": {},
     "output_type": "execute_result"
    }
   ],
   "source": [
    "# Fit final model\n",
    "gradientboost_best.fit(mailout_train_x_scaled, labels)"
   ]
  },
  {
   "cell_type": "code",
   "execution_count": null,
   "metadata": {},
   "outputs": [],
   "source": [
    "# Output predictions\n",
    "gradientboost_test_predictions = gradientboost_best.predict_proba(mailout_test_x_scaled)[:,1]\n",
    "kaggle_predictions = pd.DataFrame(index=mailout_test_LNR, data=gradientboost_test_predictions)\n",
    "kaggle_predictions.rename(columns={0: \"RESPONSE\"}, inplace=True)\n",
    "kaggle_predictions.reset_index(level=0, inplace=True)\n",
    "kaggle_predictions['LNR'] = kaggle_predictions['LNR'].astype(int)\n",
    "kaggle_predictions.to_csv('Kaggle_submission.csv', index=False)"
   ]
  }
 ],
 "metadata": {
  "kernelspec": {
   "display_name": "Python 3",
   "language": "python",
   "name": "python3"
  },
  "language_info": {
   "codemirror_mode": {
    "name": "ipython",
    "version": 3
   },
   "file_extension": ".py",
   "mimetype": "text/x-python",
   "name": "python",
   "nbconvert_exporter": "python",
   "pygments_lexer": "ipython3",
   "version": "3.6.3"
  }
 },
 "nbformat": 4,
 "nbformat_minor": 2
}
